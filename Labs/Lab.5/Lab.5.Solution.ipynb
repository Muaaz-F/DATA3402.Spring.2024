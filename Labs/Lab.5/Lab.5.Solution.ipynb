{
 "cells": [
  {
   "cell_type": "markdown",
   "metadata": {},
   "source": [
    "# Lab 5\n"
   ]
  },
  {
   "cell_type": "markdown",
   "metadata": {},
   "source": [
    "Matrix Representation: In this lab you will be creating a simple linear algebra system. In memory, we will represent matrices as nested python lists as we have done in lecture. \n",
    "\n",
    "1. Create a `matrix` class with the following properties:\n",
    "    * It can be initialized in 2 ways:\n",
    "        1. with arguments `n` and `m`, the size of the matrix. A newly instanciated matrix will contain all zeros.\n",
    "        2. with a list of lists of values. Note that since we are using lists of lists to implement matrices, it is possible that not all rows have the same number of columns. Test explicitly that the matrix is properly specified.\n",
    "    * Matrix instances `M` can be indexed with `M[i][j]` and `M[i,j]`.\n",
    "    * Matrix assignment works in 2 ways:\n",
    "        1. If `M_1` and `M_2` are `matrix` instances `M_1=M_2` sets the values of `M_1` to those of `M_2`, if they are the same size. Error otherwise.\n",
    "        2. In example above `M_2` can be a list of lists of correct size.\n"
   ]
  },
  {
   "cell_type": "code",
   "execution_count": 35,
   "metadata": {},
   "outputs": [],
   "source": [
    "class Matrix:\n",
    "    def __init__(self, *args):\n",
    "        if not args:\n",
    "            raise ValueError(\"Matrix must be initialized with size or values.\")\n",
    "        elif len(args) == 2:\n",
    "            n, m = args\n",
    "            self.data = [[0] * m for _ in range(n)]\n",
    "        elif len(args) == 1 and isinstance(args[0], list):\n",
    "            rows = len(args[0])\n",
    "            cols = set(len(row) for row in args[0])\n",
    "            if len(cols) == 1:\n",
    "                self.data = args[0]\n",
    "            else:\n",
    "                raise ValueError(\"Rows must have the same number of columns.\")\n",
    "        else:\n",
    "            raise ValueError(\"Invalid initialization of Matrix.\")\n",
    "\n",
    "    def __getitem__(self, key):\n",
    "        if isinstance(key, tuple) and len(key) == 2:\n",
    "            i, j = key\n",
    "            return self.data[i][j]\n",
    "        elif isinstance(key, int):\n",
    "            return self.data[key]\n",
    "        else:\n",
    "            raise IndexError(\"Matrix indices must be a tuple of two integers or a single integer.\")\n",
    "\n",
    "    \n",
    "    def __setitem__(self, key, value):\n",
    "        if isinstance(key, tuple) and len(key) == 2:\n",
    "            i, j = key\n",
    "            self.data[i][j] = value\n",
    "        else:\n",
    "            raise IndexError(\"Matrix indices must be a tuple of two integers.\")\n",
    "\n",
    "    def __eq__(self, other):\n",
    "        if isinstance(other, Matrix) and len(self.data) == len(other.data) and all(len(self.data[i]) == len(other.data[i]) for i in range(len(self.data))):\n",
    "            return all(self.data[i][j] == other.data[i][j] for i in range(len(self.data)) for j in range(len(self.data[i])))\n",
    "        else:\n",
    "            return False\n",
    "    \n",
    "    def assign(self, other):\n",
    "        if isinstance(other, Matrix):\n",
    "            if self.size() == other.size():\n",
    "\n",
    "                for i in range(len(self.data)):\n",
    "                    for j in range(len(self.data[0])):\n",
    "                        self.data[i][j] = other.data[i][j]    \n",
    "            else:\n",
    "                print(\"Matrices of unequal sizes\")\n",
    "        else:\n",
    "            print(\"This Matrix is not an instance of Matrix Class\")\n",
    "\n",
    "    def size(self):\n",
    "        return len(self.data), len(self.data[0])\n",
    "\n",
    "    \n",
    "    def __repr__(self):\n",
    "        return f\"Matrix({self.data})\"\n"
   ]
  },
  {
   "cell_type": "code",
   "execution_count": 36,
   "metadata": {},
   "outputs": [
    {
     "name": "stdout",
     "output_type": "stream",
     "text": [
      "[[0, 0, 0, 0], [0, 0, 0, 0], [0, 0, 0, 0]]\n"
     ]
    }
   ],
   "source": [
    "# Tests\n",
    "\n",
    "matrix1 = Matrix(3, 4)\n",
    "print(matrix1.data)"
   ]
  },
  {
   "cell_type": "code",
   "execution_count": 37,
   "metadata": {},
   "outputs": [
    {
     "name": "stdout",
     "output_type": "stream",
     "text": [
      "[[1, 2, 3], [4, 5, 6], [7, 8, 9]]\n"
     ]
    }
   ],
   "source": [
    "# Initialize a matrix with values\n",
    "matrix2 = Matrix([[1, 2, 3], [4, 5, 6], [7, 8, 9]])\n",
    "print(matrix2.data)"
   ]
  },
  {
   "cell_type": "code",
   "execution_count": 38,
   "metadata": {},
   "outputs": [
    {
     "name": "stdout",
     "output_type": "stream",
     "text": [
      "6\n"
     ]
    }
   ],
   "source": [
    "# Access elements using indexing\n",
    "print(matrix2[1, 2])"
   ]
  },
  {
   "cell_type": "code",
   "execution_count": 39,
   "metadata": {},
   "outputs": [
    {
     "name": "stdout",
     "output_type": "stream",
     "text": [
      "6\n"
     ]
    }
   ],
   "source": [
    "print(matrix2[1][2])"
   ]
  },
  {
   "cell_type": "code",
   "execution_count": 40,
   "metadata": {},
   "outputs": [
    {
     "name": "stdout",
     "output_type": "stream",
     "text": [
      "[[1, 2, 3], [4, 5, 10], [7, 8, 9]]\n"
     ]
    }
   ],
   "source": [
    "# Modify elements using indexing\n",
    "matrix2[1, 2] = 10\n",
    "print(matrix2.data)"
   ]
  },
  {
   "cell_type": "code",
   "execution_count": 41,
   "metadata": {},
   "outputs": [
    {
     "name": "stdout",
     "output_type": "stream",
     "text": [
      "[[0, 0, 0], [0, 0, 0], [0, 0, 0]]\n"
     ]
    }
   ],
   "source": [
    "# Matrix assignment\n",
    "matrix3 = Matrix(3, 3)\n",
    "print(matrix3.data)"
   ]
  },
  {
   "cell_type": "code",
   "execution_count": 42,
   "metadata": {},
   "outputs": [
    {
     "name": "stdout",
     "output_type": "stream",
     "text": [
      "[[1, 2, 3], [4, 5, 10], [7, 8, 9]]\n"
     ]
    }
   ],
   "source": [
    "matrix3.assign(matrix2)\n",
    "print(matrix3.data)"
   ]
  },
  {
   "cell_type": "code",
   "execution_count": 43,
   "metadata": {},
   "outputs": [
    {
     "data": {
      "text/plain": [
       "True"
      ]
     },
     "execution_count": 43,
     "metadata": {},
     "output_type": "execute_result"
    }
   ],
   "source": [
    "matrix3 == matrix2"
   ]
  },
  {
   "cell_type": "code",
   "execution_count": 44,
   "metadata": {},
   "outputs": [],
   "source": [
    "# Matrix assignment with a list of lists\n",
    "matrix4 = Matrix([[1, 2, 3], [4, 5, 6], [7, 8, 9]])\n",
    "matrix5 = Matrix(4, 4)\n"
   ]
  },
  {
   "cell_type": "code",
   "execution_count": 45,
   "metadata": {},
   "outputs": [
    {
     "name": "stdout",
     "output_type": "stream",
     "text": [
      "Matrices of unequal sizes\n",
      "[[0, 0, 0, 0], [0, 0, 0, 0], [0, 0, 0, 0], [0, 0, 0, 0]]\n"
     ]
    }
   ],
   "source": [
    "matrix5.assign(matrix4)\n",
    "print(matrix5.data)"
   ]
  },
  {
   "cell_type": "code",
   "execution_count": 46,
   "metadata": {},
   "outputs": [
    {
     "data": {
      "text/plain": [
       "'Matrix([[1, 2, 3], [4, 5, 10], [7, 8, 9]])'"
      ]
     },
     "execution_count": 46,
     "metadata": {},
     "output_type": "execute_result"
    }
   ],
   "source": [
    "repr(matrix2)"
   ]
  },
  {
   "cell_type": "code",
   "execution_count": 47,
   "metadata": {},
   "outputs": [],
   "source": [
    "matrix6 = [[1, 2, 3], [4, 5, 10], [7, 8, 0]]"
   ]
  },
  {
   "cell_type": "code",
   "execution_count": 48,
   "metadata": {},
   "outputs": [
    {
     "name": "stdout",
     "output_type": "stream",
     "text": [
      "This Matrix is not an instance of Matrix Class\n"
     ]
    }
   ],
   "source": [
    "matrix2.assign(matrix6)"
   ]
  },
  {
   "cell_type": "markdown",
   "metadata": {},
   "source": [
    "2. Add the following methods:\n",
    "    * `shape()`: returns a tuple `(n,m)` of the shape of the matrix.\n",
    "    * `transpose()`: returns a new matrix instance which is the transpose of the matrix.\n",
    "    * `row(n)` and `column(n)`: that return the nth row or column of the matrix M as a new appropriately shaped matrix object.\n",
    "    * `to_list()`: which returns the matrix as a list of lists.\n",
    "    *  `block(n_0,n_1,m_0,m_1)` that returns a smaller matrix located at the n_0 to n_1 columns and m_0 to m_1 rows. \n",
    "    * (Extra credit) Modify `__getitem__` implemented above to support slicing.\n",
    "        "
   ]
  },
  {
   "cell_type": "code",
   "execution_count": 49,
   "metadata": {},
   "outputs": [],
   "source": [
    "def shape(self):\n",
    "    return len(self.data), len(self.data[0])\n",
    "\n",
    "def transpose(self):\n",
    "    transposed_data = [[self.data[j][i] for j in range(len(self.data))] for i in range(len(self.data[0]))]\n",
    "    return Matrix(transposed_data)\n",
    "\n",
    "def row(self, n):\n",
    "    return Matrix([self.data[n]])\n",
    "\n",
    "def column(self, n):\n",
    "    return Matrix([[row[n]] for row in self.data])\n",
    "\n",
    "def to_list(self):\n",
    "    return self.data\n",
    "\n",
    "def block(self, n_0, n_1, m_0, m_1):\n",
    "    return Matrix([row[n_0:n_1] for row in self.data[m_0:m_1]])"
   ]
  },
  {
   "cell_type": "code",
   "execution_count": 50,
   "metadata": {},
   "outputs": [],
   "source": [
    "methods = [shape, transpose, row, column, to_list, block]\n",
    "for method in methods:\n",
    "    setattr(Matrix, method.__name__, method)"
   ]
  },
  {
   "cell_type": "code",
   "execution_count": 51,
   "metadata": {},
   "outputs": [],
   "source": [
    "matrix7 = Matrix([[1, 2, 3, 4], [5, 6, 7, 8], [9, 10, 11, 12]])\n"
   ]
  },
  {
   "cell_type": "code",
   "execution_count": 52,
   "metadata": {},
   "outputs": [
    {
     "data": {
      "text/plain": [
       "(3, 4)"
      ]
     },
     "execution_count": 52,
     "metadata": {},
     "output_type": "execute_result"
    }
   ],
   "source": [
    "matrix7.shape()"
   ]
  },
  {
   "cell_type": "code",
   "execution_count": 53,
   "metadata": {},
   "outputs": [
    {
     "data": {
      "text/plain": [
       "Matrix([[1, 5, 9], [2, 6, 10], [3, 7, 11], [4, 8, 12]])"
      ]
     },
     "execution_count": 53,
     "metadata": {},
     "output_type": "execute_result"
    }
   ],
   "source": [
    "matrix7.transpose()"
   ]
  },
  {
   "cell_type": "code",
   "execution_count": 54,
   "metadata": {},
   "outputs": [
    {
     "name": "stdout",
     "output_type": "stream",
     "text": [
      "Row 2 of matrix7:\n",
      "Matrix([[9, 10, 11, 12]])\n"
     ]
    }
   ],
   "source": [
    "row_2 = matrix7.row(2)\n",
    "print(\"Row 2 of matrix7:\")\n",
    "print(row_2) \n"
   ]
  },
  {
   "cell_type": "code",
   "execution_count": 55,
   "metadata": {},
   "outputs": [
    {
     "name": "stdout",
     "output_type": "stream",
     "text": [
      "Column 3 of matrix7:\n",
      "Matrix([[4], [8], [12]])\n"
     ]
    }
   ],
   "source": [
    "column_3 = matrix7.column(3)\n",
    "print(\"Column 3 of matrix7:\")\n",
    "print(column_3) "
   ]
  },
  {
   "cell_type": "code",
   "execution_count": 56,
   "metadata": {},
   "outputs": [
    {
     "name": "stdout",
     "output_type": "stream",
     "text": [
      "Matrix7 as a list:\n",
      "[[1, 2, 3, 4], [5, 6, 7, 8], [9, 10, 11, 12]]\n"
     ]
    }
   ],
   "source": [
    "matrix7_list = matrix7.to_list()\n",
    "print(\"Matrix7 as a list:\")\n",
    "print(matrix7_list) "
   ]
  },
  {
   "cell_type": "code",
   "execution_count": 57,
   "metadata": {},
   "outputs": [
    {
     "name": "stdout",
     "output_type": "stream",
     "text": [
      "Block matrix from matrix7:\n",
      "Matrix([[5, 6], [9, 10]])\n"
     ]
    }
   ],
   "source": [
    "block_matrix = matrix7.block(0, 2, 1, 3)\n",
    "print(\"Block matrix from matrix7:\")\n",
    "print(block_matrix)  "
   ]
  },
  {
   "cell_type": "code",
   "execution_count": 58,
   "metadata": {},
   "outputs": [],
   "source": [
    "# def __getitem__(self, key):\n",
    "#     if isinstance(key, tuple) and len(key) == 2:\n",
    "#         i, j = key\n",
    "#         return self.data[i][j]\n",
    "#     elif isinstance(key, int):\n",
    "#         return self.data[key]\n",
    "#     elif isinstance(key, slice):\n",
    "#         if key.start is None and key.stop is None:\n",
    "#             return self.data[key]\n",
    "#         else:\n",
    "#             start_i = key.start if key.start is not None else 0\n",
    "#             stop_i = key.stop if key.stop is not None else len(self.data)\n",
    "#             step_i = key.step if key.step is not None else 1\n",
    "#             sliced_data = [row[key] for row in self.data[start_i:stop_i:step_i]]\n",
    "#             if isinstance(sliced_data[0], list):\n",
    "#                 return [row[key.start:key.stop:key.step] for row in self.data[start_i:stop_i:step_i]]\n",
    "#             else:\n",
    "#                 return sliced_data\n",
    "#     else:\n",
    "#         raise IndexError(\"Matrix indices must be a tuple of two integers, a single integer, or a slice.\")\n"
   ]
  },
  {
   "cell_type": "code",
   "execution_count": 59,
   "metadata": {},
   "outputs": [],
   "source": [
    "# setattr(Matrix, '__getitem__', Matrix.__getitem__)\n"
   ]
  },
  {
   "cell_type": "code",
   "execution_count": 60,
   "metadata": {},
   "outputs": [],
   "source": [
    "# matrix = Matrix([[1, 2, 3], [4, 5, 6], [7, 8, 9]])\n",
    "\n",
    "# # Single row access\n",
    "# print(matrix[1])  # Output: [4, 5, 6]\n",
    "\n",
    "# # Column access\n",
    "# print(matrix[:, 1])  # Output: [2, 5, 8]\n",
    "\n",
    "# # Row and column slice access\n",
    "# print(matrix[0:2, 1:3])  # Output: [[2, 3], [5, 6]]\n",
    "\n",
    "# # Single index access\n",
    "# print(matrix[1, 2])  # Output: 6\n"
   ]
  },
  {
   "cell_type": "code",
   "execution_count": 61,
   "metadata": {},
   "outputs": [],
   "source": [
    "# matrix8 = Matrix([[1, 2, 3], [4, 5, 6], [7, 8, 9]])\n"
   ]
  },
  {
   "cell_type": "code",
   "execution_count": 62,
   "metadata": {},
   "outputs": [],
   "source": [
    "# # Row and column slice access\n",
    "# print(matrix8[0:2, 1:3])"
   ]
  },
  {
   "cell_type": "code",
   "execution_count": 63,
   "metadata": {},
   "outputs": [],
   "source": [
    "# # Single row access\n",
    "# print(matrix8[1]) \n"
   ]
  },
  {
   "cell_type": "code",
   "execution_count": 64,
   "metadata": {},
   "outputs": [],
   "source": [
    "# # Column access\n",
    "# print(matrix8[:, 1])\n"
   ]
  },
  {
   "cell_type": "code",
   "execution_count": 65,
   "metadata": {},
   "outputs": [],
   "source": [
    "# Row and column slice access\n",
    "# print(matrix8[0:2, 1:3])"
   ]
  },
  {
   "cell_type": "markdown",
   "metadata": {},
   "source": [
    "3. Write functions that create special matrices (note these are standalone functions, not member functions of your `matrix` class):\n",
    "    * `constant(n,m,c)`: returns a `n` by `m` matrix filled with floats of value `c`.\n",
    "    * `zeros(n,m)` and `ones(n,m)`: return `n` by `m` matrices filled with floats of value `0` and `1`, respectively.\n",
    "    * `eye(n)`: returns the n by n identity matrix."
   ]
  },
  {
   "cell_type": "code",
   "execution_count": 66,
   "metadata": {},
   "outputs": [],
   "source": [
    "def constant(n, m, c):\n",
    "    return Matrix([[c] * m for _ in range(n)])\n",
    "\n",
    "def zeros(n, m):\n",
    "    return constant(n, m, 0)\n",
    "\n",
    "def ones(n, m):\n",
    "    return constant(n, m, 1)\n",
    "\n",
    "def eye(n):\n",
    "    return Matrix([[1 if i == j else 0 for j in range(n)] for i in range(n)])\n"
   ]
  },
  {
   "cell_type": "code",
   "execution_count": 67,
   "metadata": {},
   "outputs": [
    {
     "name": "stdout",
     "output_type": "stream",
     "text": [
      "Matrix([[5, 5, 5], [5, 5, 5]])\n"
     ]
    }
   ],
   "source": [
    "# Testing the constant function\n",
    "constant_matrix = constant(2, 3, 5)\n",
    "print(constant_matrix)"
   ]
  },
  {
   "cell_type": "code",
   "execution_count": 68,
   "metadata": {},
   "outputs": [
    {
     "name": "stdout",
     "output_type": "stream",
     "text": [
      "Matrix([[0, 0], [0, 0], [0, 0]])\n"
     ]
    }
   ],
   "source": [
    "# Testing the zeros function\n",
    "zeros_matrix = zeros(3, 2)\n",
    "print(zeros_matrix)"
   ]
  },
  {
   "cell_type": "code",
   "execution_count": 69,
   "metadata": {},
   "outputs": [
    {
     "name": "stdout",
     "output_type": "stream",
     "text": [
      "Matrix([[1, 1], [1, 1]])\n"
     ]
    }
   ],
   "source": [
    "# Testing the ones function\n",
    "ones_matrix = ones(2, 2)\n",
    "print(ones_matrix)\n"
   ]
  },
  {
   "cell_type": "code",
   "execution_count": 70,
   "metadata": {},
   "outputs": [
    {
     "name": "stdout",
     "output_type": "stream",
     "text": [
      "Matrix([[1, 0, 0], [0, 1, 0], [0, 0, 1]])\n"
     ]
    }
   ],
   "source": [
    "# Testing the eye function\n",
    "identity_matrix = eye(3)\n",
    "print(identity_matrix)\n"
   ]
  },
  {
   "cell_type": "markdown",
   "metadata": {},
   "source": [
    "4. Add the following member functions to your class. Make sure to appropriately test the dimensions of the matrices to make sure the operations are correct.\n",
    "    * `M.scalarmul(c)`: a matrix that is scalar product $cM$, where every element of $M$ is multiplied by $c$.\n",
    "    * `M.add(N)`: adds two matrices $M$ and $N$. Don’t forget to test that the sizes of the matrices are compatible for this and all other operations.\n",
    "    * `M.sub(N)`: subtracts two matrices $M$ and $N$.\n",
    "    * `M.mat_mult(N)`: returns a matrix that is the matrix product of two matrices $M$ and $N$.\n",
    "    * `M.element_mult(N)`: returns a matrix that is the element-wise product of two matrices $M$ and $N$.\n",
    "    * `M.equals(N)`: returns true/false if $M==N$."
   ]
  },
  {
   "cell_type": "code",
   "execution_count": 71,
   "metadata": {},
   "outputs": [],
   "source": [
    "def scalarmul(self, c):\n",
    "    result = Matrix(self.size()[0], self.size()[1])\n",
    "    for i in range(self.size()[0]):\n",
    "        for j in range(self.size()[1]):\n",
    "            result[i, j] = self[i, j] * c\n",
    "    return result\n",
    "\n",
    "def add(self, other):\n",
    "    if self.size() != other.size():\n",
    "        raise ValueError(\"Matrices must have the same size for addition.\")\n",
    "    result = Matrix(self.size()[0], self.size()[1])\n",
    "    for i in range(self.size()[0]):\n",
    "        for j in range(self.size()[1]):\n",
    "            result[i, j] = self[i, j] + other[i, j]\n",
    "    return result\n",
    "\n",
    "def sub(self, other):\n",
    "    if self.size() != other.size():\n",
    "        raise ValueError(\"Matrices must have the same size for subtraction.\")\n",
    "    result = Matrix(self.size()[0], self.size()[1])\n",
    "    for i in range(self.size()[0]):\n",
    "        for j in range(self.size()[1]):\n",
    "            result[i, j] = self[i, j] - other[i, j]\n",
    "    return result\n",
    "\n",
    "def mat_mult(self, other):\n",
    "    if self.size()[1] != other.size()[0]:\n",
    "        raise ValueError(\"Number of columns of the first matrix must be equal to the number of rows of the second matrix.\")\n",
    "    result = Matrix(self.size()[0], other.size()[1])\n",
    "    for i in range(result.size()[0]):\n",
    "        for j in range(result.size()[1]):\n",
    "            result[i, j] = sum(self[i, k] * other[k, j] for k in range(self.size()[1]))\n",
    "    return result\n",
    "\n",
    "def element_mult(self, other):\n",
    "    if self.size() != other.size():\n",
    "        raise ValueError(\"Matrices must have the same size for element-wise multiplication.\")\n",
    "    result = Matrix(self.size()[0], self.size()[1])\n",
    "    for i in range(self.size()[0]):\n",
    "        for j in range(self.size()[1]):\n",
    "            result[i, j] = self[i, j] * other[i, j]\n",
    "    return result\n",
    "\n",
    "def equals(self, other2):\n",
    "    return self == other2"
   ]
  },
  {
   "cell_type": "code",
   "execution_count": 72,
   "metadata": {},
   "outputs": [],
   "source": [
    "methods2 = [scalarmul, add, sub, mat_mult, element_mult, equals]\n",
    "for method in methods2:\n",
    "    setattr(Matrix, method.__name__, method)\n"
   ]
  },
  {
   "cell_type": "code",
   "execution_count": 73,
   "metadata": {},
   "outputs": [
    {
     "data": {
      "text/plain": [
       "Matrix([[2, 4, 6], [8, 10, 20], [14, 16, 18]])"
      ]
     },
     "execution_count": 73,
     "metadata": {},
     "output_type": "execute_result"
    }
   ],
   "source": [
    "#Tests\n",
    "\n",
    "matrix2.scalarmul(2)"
   ]
  },
  {
   "cell_type": "code",
   "execution_count": 74,
   "metadata": {},
   "outputs": [
    {
     "data": {
      "text/plain": [
       "Matrix([[2, 4, 6], [8, 10, 20], [14, 16, 18]])"
      ]
     },
     "execution_count": 74,
     "metadata": {},
     "output_type": "execute_result"
    }
   ],
   "source": [
    "matrix2.add(matrix3)"
   ]
  },
  {
   "cell_type": "code",
   "execution_count": 75,
   "metadata": {},
   "outputs": [
    {
     "data": {
      "text/plain": [
       "Matrix([[0, 0, 0], [0, 0, 0], [0, 0, 0]])"
      ]
     },
     "execution_count": 75,
     "metadata": {},
     "output_type": "execute_result"
    }
   ],
   "source": [
    "matrix2.sub(matrix3)"
   ]
  },
  {
   "cell_type": "code",
   "execution_count": 76,
   "metadata": {},
   "outputs": [
    {
     "data": {
      "text/plain": [
       "Matrix([[30, 36, 50], [94, 113, 152], [102, 126, 182]])"
      ]
     },
     "execution_count": 76,
     "metadata": {},
     "output_type": "execute_result"
    }
   ],
   "source": [
    "matrix2.mat_mult(matrix3)"
   ]
  },
  {
   "cell_type": "code",
   "execution_count": 77,
   "metadata": {},
   "outputs": [
    {
     "data": {
      "text/plain": [
       "Matrix([[1, 4, 9], [16, 25, 100], [49, 64, 81]])"
      ]
     },
     "execution_count": 77,
     "metadata": {},
     "output_type": "execute_result"
    }
   ],
   "source": [
    "matrix2.element_mult(matrix3)"
   ]
  },
  {
   "cell_type": "code",
   "execution_count": 78,
   "metadata": {},
   "outputs": [
    {
     "data": {
      "text/plain": [
       "False"
      ]
     },
     "execution_count": 78,
     "metadata": {},
     "output_type": "execute_result"
    }
   ],
   "source": [
    "matrix3.equals(matrix1)"
   ]
  },
  {
   "cell_type": "markdown",
   "metadata": {},
   "source": [
    "5. Overload python operators to appropriately use your functions in 4 and allow expressions like:\n",
    "    * 2*M\n",
    "    * M*2\n",
    "    * M+N\n",
    "    * M-N\n",
    "    * M*N\n",
    "    * M==N\n",
    "    * M=N\n"
   ]
  },
  {
   "cell_type": "code",
   "execution_count": null,
   "metadata": {},
   "outputs": [],
   "source": []
  },
  {
   "cell_type": "code",
   "execution_count": null,
   "metadata": {},
   "outputs": [],
   "source": []
  },
  {
   "cell_type": "code",
   "execution_count": null,
   "metadata": {},
   "outputs": [],
   "source": []
  },
  {
   "cell_type": "code",
   "execution_count": null,
   "metadata": {},
   "outputs": [],
   "source": []
  },
  {
   "cell_type": "code",
   "execution_count": null,
   "metadata": {},
   "outputs": [],
   "source": []
  },
  {
   "cell_type": "code",
   "execution_count": null,
   "metadata": {},
   "outputs": [],
   "source": []
  },
  {
   "cell_type": "markdown",
   "metadata": {},
   "source": [
    "6. Demonstrate the basic properties of matrices with your matrix class by creating two 2 by 2 example matrices using your Matrix class and illustrating the following:\n",
    "\n",
    "$$\n",
    "(AB)C=A(BC)\n",
    "$$\n",
    "$$\n",
    "A(B+C)=AB+AC\n",
    "$$\n",
    "$$\n",
    "AB\\neq BA\n",
    "$$\n",
    "$$\n",
    "AI=A\n",
    "$$"
   ]
  },
  {
   "cell_type": "code",
   "execution_count": null,
   "metadata": {},
   "outputs": [],
   "source": []
  }
 ],
 "metadata": {
  "kernelspec": {
   "display_name": "Python 3 (ipykernel)",
   "language": "python",
   "name": "python3"
  },
  "language_info": {
   "codemirror_mode": {
    "name": "ipython",
    "version": 3
   },
   "file_extension": ".py",
   "mimetype": "text/x-python",
   "name": "python",
   "nbconvert_exporter": "python",
   "pygments_lexer": "ipython3",
   "version": "3.10.12"
  }
 },
 "nbformat": 4,
 "nbformat_minor": 4
}
