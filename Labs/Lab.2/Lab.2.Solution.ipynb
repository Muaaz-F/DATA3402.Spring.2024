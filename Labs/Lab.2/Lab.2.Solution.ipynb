{
 "cells": [
  {
   "cell_type": "markdown",
   "metadata": {},
   "source": [
    "## Lab 2- Tic Tac Toe\n",
    "\n",
    "In this lab your will build a n x n Tic Tac Toe game. As you do the exercises, make sure your solutions work for any size Tic Tac Toe game. "
   ]
  },
  {
   "cell_type": "markdown",
   "metadata": {},
   "source": [
    "*Exercise 1:* Write a function that creates an n by n matrix (of list of lists) which will represent the state of a Tie Tac Toe game. Let 0, 1, and 2 represent empty, \"X\", and \"O\", respectively.\n"
   ]
  },
  {
   "cell_type": "code",
   "execution_count": 1,
   "metadata": {},
   "outputs": [],
   "source": [
    "player_1 = 1\n",
    "player_2 = 2\n",
    "empty = 0\n",
    "\n",
    "size = 3"
   ]
  },
  {
   "cell_type": "code",
   "execution_count": 2,
   "metadata": {},
   "outputs": [],
   "source": [
    "# Write you solution here\n",
    "\n",
    "def board(size):\n",
    "    \n",
    "    return [[0] * size for _ in range(size)]"
   ]
  },
  {
   "cell_type": "code",
   "execution_count": 3,
   "metadata": {},
   "outputs": [
    {
     "data": {
      "text/plain": [
       "[[0, 0, 0], [0, 0, 0], [0, 0, 0]]"
      ]
     },
     "execution_count": 3,
     "metadata": {},
     "output_type": "execute_result"
    }
   ],
   "source": [
    "# Test your solution here\n",
    "\n",
    "board(size)"
   ]
  },
  {
   "cell_type": "markdown",
   "metadata": {},
   "source": [
    "*Exercise 2:* Write a function that takes 2 integers `n` and `m` as input and draws a `n` by `m` game board. For example the following is a 3x3 board:\n",
    "```\n",
    "   --- --- --- \n",
    "  |   |   |   | \n",
    "   --- --- ---  \n",
    "  |   |   |   | \n",
    "   --- --- ---  \n",
    "  |   |   |   | \n",
    "   --- --- --- \n",
    "   ```"
   ]
  },
  {
   "cell_type": "code",
   "execution_count": 4,
   "metadata": {},
   "outputs": [],
   "source": [
    "# Write you solution here\n",
    "\n",
    "def board2(n, m):\n",
    "    for i in range(n):\n",
    "        print(\" ---\" * m)\n",
    "        \n",
    "        print(\"|   \" * (m + 1))\n",
    "    \n",
    "    print(\" ---\" * m)"
   ]
  },
  {
   "cell_type": "code",
   "execution_count": 5,
   "metadata": {},
   "outputs": [
    {
     "name": "stdout",
     "output_type": "stream",
     "text": [
      " --- --- ---\n",
      "|   |   |   |   \n",
      " --- --- ---\n",
      "|   |   |   |   \n",
      " --- --- ---\n",
      "|   |   |   |   \n",
      " --- --- ---\n"
     ]
    }
   ],
   "source": [
    "# Test your solution here\n",
    "\n",
    "board2(3,3)"
   ]
  },
  {
   "cell_type": "markdown",
   "metadata": {},
   "source": [
    "*Exercise 3:* Modify exercise 2, so that it takes a matrix of the form from exercise 1 and draws a tic-tac-tie board with \"X\"s and \"O\"s.  "
   ]
  },
  {
   "cell_type": "code",
   "execution_count": 6,
   "metadata": {},
   "outputs": [],
   "source": [
    "# Write you solution here\n",
    "\n",
    "def draw_board(matrix):\n",
    "    for row in matrix:\n",
    "        print(\" ---\" * len(row))\n",
    "        \n",
    "        for cell in row:\n",
    "            if cell == player_1:\n",
    "                print(\"| X \", end=\"\")\n",
    "            elif cell == player_2:\n",
    "                print(\"| O \", end=\"\")\n",
    "            else:\n",
    "                print(\"|   \", end=\"\")\n",
    "        \n",
    "        print()  \n",
    "    \n",
    "    print(\" ---\" * len(row))"
   ]
  },
  {
   "cell_type": "code",
   "execution_count": 7,
   "metadata": {},
   "outputs": [],
   "source": [
    "game_board = board(size)"
   ]
  },
  {
   "cell_type": "code",
   "execution_count": 8,
   "metadata": {},
   "outputs": [
    {
     "name": "stdout",
     "output_type": "stream",
     "text": [
      " --- --- ---\n",
      "|   |   |   \n",
      " --- --- ---\n",
      "|   |   |   \n",
      " --- --- ---\n",
      "|   |   |   \n",
      " --- --- ---\n"
     ]
    }
   ],
   "source": [
    "# Test your solution here\n",
    "\n",
    "draw_board(game_board)"
   ]
  },
  {
   "cell_type": "markdown",
   "metadata": {},
   "source": [
    "*Exercise 4:* Write a function that takes a `n` by `n` matrix representing a tic-tac-toe game, and returns -1, 0, 1, or 2 indicating the game is incomplete, the game is a draw, player 1 has won, or player 2 has one, respectively. Here are some example inputs you can use to test your code:"
   ]
  },
  {
   "cell_type": "code",
   "execution_count": 9,
   "metadata": {},
   "outputs": [],
   "source": [
    "# Write you solution here\n",
    "\n",
    "def game_status(matrix):\n",
    "    n = len(matrix)\n",
    "    \n",
    "    for i in range(n):\n",
    "        if all(matrix[i][j] == player_1 for j in range(n)):\n",
    "            return player_1  # Player 1 won\n",
    "        elif all(matrix[i][j] == player_2 for j in range(n)):\n",
    "            return player_2  # Player 2 won\n",
    "\n",
    "        if all(matrix[j][i] == player_1 for j in range(n)):\n",
    "            return player_1  # Player 1 won\n",
    "        elif all(matrix[j][i] == player_2 for j in range(n)):\n",
    "            return player_2  # Player 2 won\n",
    "\n",
    "    if all(matrix[i][i] == player_1 for i in range(n)):\n",
    "        return player_1  # Player 1 won\n",
    "    elif all(matrix[i][i] == player_2 for i in range(n)):\n",
    "        return player_2  # Player 2 won\n",
    "\n",
    "    if all(matrix[i][n - 1 - i] == player_1 for i in range(n)):\n",
    "        return player_1  # Player 1 won\n",
    "    elif all(matrix[i][n - 1 - i] == player_2 for i in range(n)):\n",
    "        return player_2  # Player 2 won\n",
    "\n",
    "    for row in matrix:\n",
    "        if empty in row:\n",
    "            return -1  # Game is incomplete\n",
    "\n",
    "    return 0  # Game draw"
   ]
  },
  {
   "cell_type": "code",
   "execution_count": 10,
   "metadata": {},
   "outputs": [],
   "source": [
    "winner_is_2 = [[2, 2, 0],\n",
    "\t[2, 1, 0],\n",
    "\t[2, 1, 1]]\n",
    "\n",
    "winner_is_1 = [[1, 2, 0],\n",
    "\t[2, 1, 0],\n",
    "\t[2, 1, 1]]\n",
    "\n",
    "winner_is_also_1 = [[0, 1, 0],\n",
    "\t[2, 1, 0],\n",
    "\t[2, 1, 1]]\n",
    "\n",
    "no_winner = [[1, 2, 0],\n",
    "\t[2, 1, 0],\n",
    "\t[2, 1, 2]]\n",
    "\n",
    "also_no_winner = [[1, 2, 0],\n",
    "\t[2, 1, 0],\n",
    "\t[2, 1, 0]]\n",
    "\n",
    "game_draw =  [[1, 2, 1],\n",
    "    [2, 1, 2],\n",
    "    [2, 1, 2]]"
   ]
  },
  {
   "cell_type": "code",
   "execution_count": 11,
   "metadata": {},
   "outputs": [
    {
     "data": {
      "text/plain": [
       "2"
      ]
     },
     "execution_count": 11,
     "metadata": {},
     "output_type": "execute_result"
    }
   ],
   "source": [
    "# Test your solution here\n",
    "\n",
    "game_status(winner_is_2)"
   ]
  },
  {
   "cell_type": "code",
   "execution_count": 12,
   "metadata": {},
   "outputs": [
    {
     "data": {
      "text/plain": [
       "1"
      ]
     },
     "execution_count": 12,
     "metadata": {},
     "output_type": "execute_result"
    }
   ],
   "source": [
    "# Test your solution here\n",
    "\n",
    "game_status(winner_is_1)"
   ]
  },
  {
   "cell_type": "code",
   "execution_count": 13,
   "metadata": {},
   "outputs": [
    {
     "data": {
      "text/plain": [
       "1"
      ]
     },
     "execution_count": 13,
     "metadata": {},
     "output_type": "execute_result"
    }
   ],
   "source": [
    "# Test your solution here\n",
    "\n",
    "game_status(winner_is_also_1)"
   ]
  },
  {
   "cell_type": "code",
   "execution_count": 14,
   "metadata": {},
   "outputs": [
    {
     "data": {
      "text/plain": [
       "-1"
      ]
     },
     "execution_count": 14,
     "metadata": {},
     "output_type": "execute_result"
    }
   ],
   "source": [
    "# Test your solution here\n",
    "\n",
    "game_status(no_winner)"
   ]
  },
  {
   "cell_type": "code",
   "execution_count": 15,
   "metadata": {},
   "outputs": [
    {
     "data": {
      "text/plain": [
       "-1"
      ]
     },
     "execution_count": 15,
     "metadata": {},
     "output_type": "execute_result"
    }
   ],
   "source": [
    "# Test your solution here\n",
    "\n",
    "game_status(also_no_winner)"
   ]
  },
  {
   "cell_type": "code",
   "execution_count": 16,
   "metadata": {},
   "outputs": [
    {
     "data": {
      "text/plain": [
       "0"
      ]
     },
     "execution_count": 16,
     "metadata": {},
     "output_type": "execute_result"
    }
   ],
   "source": [
    "# Test your solution here\n",
    "\n",
    "game_status(game_draw)"
   ]
  },
  {
   "cell_type": "markdown",
   "metadata": {},
   "source": [
    "*Exercise 5:* Write a function that takes a game board, player number, and `(x,y)` coordinates and places \"X\" or \"O\" in the correct location of the game board. Make sure that you only allow filling previously empty locations. Return `True` or `False` to indicate successful placement of \"X\" or \"O\"."
   ]
  },
  {
   "cell_type": "code",
   "execution_count": 17,
   "metadata": {},
   "outputs": [],
   "source": [
    "# Write you solution here\n",
    "\n",
    "def place_marker(board, player, coordinates):\n",
    "    x, y = coordinates\n",
    "\n",
    "    if board[x][y] == empty:  \n",
    "        board[x][y] = player\n",
    "        return True  \n",
    "    else:\n",
    "        return False "
   ]
  },
  {
   "cell_type": "code",
   "execution_count": 18,
   "metadata": {},
   "outputs": [
    {
     "data": {
      "text/plain": [
       "True"
      ]
     },
     "execution_count": 18,
     "metadata": {},
     "output_type": "execute_result"
    }
   ],
   "source": [
    "# Test your solution here\n",
    "\n",
    "place_marker(game_board, player_1, (0, 0))"
   ]
  },
  {
   "cell_type": "markdown",
   "metadata": {},
   "source": [
    "*Exercise 6:* Modify Exercise 4 to show column and row labels so that players can specify location using \"A2\" or \"C1\"."
   ]
  },
  {
   "cell_type": "code",
   "execution_count": 19,
   "metadata": {},
   "outputs": [],
   "source": [
    "# Write you solution here\n",
    "\n",
    "def draw_board_labels(board):\n",
    "    size = len(board)\n",
    "    column_names = list(map(str, range(1, size + 1)))\n",
    "    row_names = list(\"ABCDEFGHIJKLMNOPQRSTUVWXYZ\")\n",
    "\n",
    "    print(\" \", end=\" \")\n",
    "    for j in range(size):\n",
    "        print(f\"  {column_names[j]} \", end=\"\")\n",
    "    print()\n",
    "\n",
    "    for i in range(size):\n",
    "        print(row_names[i], end=\" \")\n",
    "        for j in range(size):\n",
    "            if board[i][j] == player_1:\n",
    "                print(\"| X \", end=\"\")\n",
    "            elif board[i][j] == player_2:\n",
    "                print(\"| O \", end=\"\")\n",
    "            else:\n",
    "                print(\"|   \", end=\"\")\n",
    "        print(\"\\n\" + \"  \" + \" ---\" * size)\n"
   ]
  },
  {
   "cell_type": "code",
   "execution_count": 20,
   "metadata": {},
   "outputs": [
    {
     "name": "stdout",
     "output_type": "stream",
     "text": [
      "    1   2   3 \n",
      "A | X |   |   \n",
      "   --- --- ---\n",
      "B |   |   |   \n",
      "   --- --- ---\n",
      "C |   |   |   \n",
      "   --- --- ---\n"
     ]
    }
   ],
   "source": [
    "# Test your solution here\n",
    "\n",
    "draw_board_labels(game_board)"
   ]
  },
  {
   "cell_type": "markdown",
   "metadata": {},
   "source": [
    "*Exercise 7:* Write a function that takes a board, player number, and location specified as in exercise 6 and then calls exercise 5 to correctly modify the board.  "
   ]
  },
  {
   "cell_type": "code",
   "execution_count": 23,
   "metadata": {},
   "outputs": [],
   "source": [
    "# Write you solution here\n",
    "\n",
    "def modify_board(board, player, location):\n",
    "\n",
    "    size = len(board)\n",
    "    row_names = list(\"ABCDEFGHIJKLMNOPQRSTUVWXYZ\")\n",
    "    row_map = dict(zip(row_names, range(size)))\n",
    "\n",
    "    column_names = list(map(str, range(1, size + 1))) + list(\"ABCDEFGHIJKLMNOPQRSTUVWXYZ\")\n",
    "    column_map = dict(zip(column_names, range(size)))\n",
    "\n",
    "    row_label, col_label = location[0], location[1:]\n",
    "    row_index, col_index = row_map[row_label], column_map[col_label]\n",
    "\n",
    "    success = place_marker(board, player, (row_index, col_index))\n",
    "\n",
    "    draw_board_labels(board)\n",
    "\n",
    "    return success"
   ]
  },
  {
   "cell_type": "code",
   "execution_count": 24,
   "metadata": {},
   "outputs": [
    {
     "name": "stdout",
     "output_type": "stream",
     "text": [
      "    1   2   3 \n",
      "A | X | O |   \n",
      "   --- --- ---\n",
      "B |   |   |   \n",
      "   --- --- ---\n",
      "C |   |   |   \n",
      "   --- --- ---\n"
     ]
    },
    {
     "data": {
      "text/plain": [
       "True"
      ]
     },
     "execution_count": 24,
     "metadata": {},
     "output_type": "execute_result"
    }
   ],
   "source": [
    "# Test your solution here\n",
    "\n",
    "modify_board(game_board, player_2, \"A2\")\n"
   ]
  },
  {
   "cell_type": "markdown",
   "metadata": {},
   "source": [
    "*Exercise 8:* Write a function is called with a board and player number, takes input from the player using python's `input`, and modifies the board using your function from exercise 7. Note that you should keep asking for input until you have gotten a valid input that results in a valid move."
   ]
  },
  {
   "cell_type": "code",
   "execution_count": 25,
   "metadata": {},
   "outputs": [],
   "source": [
    "# Write you solution here\n",
    "def player_move(board, player):\n",
    "    size = len(board)\n",
    "    row_names = list(\"ABCDEFGHIJKLMNOPQRSTUVWXYZ\")\n",
    "    row_map = dict(zip(row_names, range(size)))\n",
    "\n",
    "    column_names = list(map(str, range(1, size + 1))) + list(\"ABCDEFGHIJKLMNOPQRSTUVWXYZ\")\n",
    "    column_map = dict(zip(column_names, range(size)))\n",
    "\n",
    "    while True:\n",
    "        try:\n",
    "            location = input(f\"Player {player}, enter your move: \").upper()\n",
    "\n",
    "            if (\n",
    "                len(location) >= 2\n",
    "                and location[0] in row_names\n",
    "                and location[1:].isdigit()\n",
    "            ):\n",
    "                row_label, col_label = location[0], location[1:]\n",
    "\n",
    "                if (\n",
    "                    row_label in row_map\n",
    "                    and col_label in column_map\n",
    "                    and board[row_map[row_label]][column_map[col_label]] == empty\n",
    "                ):\n",
    "                    modify_board(board, player, location)\n",
    "                    break\n",
    "                else:\n",
    "                    print(\"Invalid move. Please enter a valid move.\")\n",
    "            else:\n",
    "                print(\"Invalid input format. Please enter a valid move.\")\n",
    "        except KeyboardInterrupt:\n",
    "            print(\"\\nGame interrupted.\")\n",
    "            exit(0)\n"
   ]
  },
  {
   "cell_type": "code",
   "execution_count": 26,
   "metadata": {},
   "outputs": [
    {
     "name": "stdin",
     "output_type": "stream",
     "text": [
      "Player 1, enter your move:  A3\n"
     ]
    },
    {
     "name": "stdout",
     "output_type": "stream",
     "text": [
      "    1   2   3 \n",
      "A | X | O | X \n",
      "   --- --- ---\n",
      "B |   |   |   \n",
      "   --- --- ---\n",
      "C |   |   |   \n",
      "   --- --- ---\n"
     ]
    }
   ],
   "source": [
    "# Test your solution here\n",
    "\n",
    "player_move(game_board, player_1)"
   ]
  },
  {
   "cell_type": "markdown",
   "metadata": {},
   "source": [
    "*Exercise 9:* Use all of the previous exercises to implement a full tic-tac-toe game, where an appropriate board is drawn, 2 players are repeatedly asked for a location coordinates of where they wish to place a mark, and the game status is checked until a player wins or a draw occurs."
   ]
  },
  {
   "cell_type": "code",
   "execution_count": 27,
   "metadata": {},
   "outputs": [],
   "source": [
    "# Write you solution here\n",
    "\n",
    "def ttc_game_2player(size):\n",
    "    start_game = input(\"Do you want to start a Tic-Tac-Toe game? (Y/N): \").upper()\n",
    "\n",
    "    if start_game != \"Y\":\n",
    "        print(\"Game aborted.\")\n",
    "        return\n",
    "\n",
    "    game_board = board(size)\n",
    "    current_player = player_1\n",
    "    draw_board_labels(game_board)\n",
    "\n",
    "    while True:\n",
    "\n",
    "        player_move(game_board, current_player)\n",
    "\n",
    "        status = game_status(game_board)\n",
    "        if status != -1:\n",
    "            # draw_board_labels(game_board)\n",
    "\n",
    "            if status == 0:\n",
    "                print(\"It's a draw!\")\n",
    "            else:\n",
    "                print(f\"Player {status} wins!\")\n",
    "\n",
    "            break\n",
    "\n",
    "        current_player = player_2 if current_player == player_1 else player_1"
   ]
  },
  {
   "cell_type": "code",
   "execution_count": 28,
   "metadata": {},
   "outputs": [
    {
     "name": "stdin",
     "output_type": "stream",
     "text": [
      "Do you want to start a Tic-Tac-Toe game? (Y/N):  y\n"
     ]
    },
    {
     "name": "stdout",
     "output_type": "stream",
     "text": [
      "    1   2   3 \n",
      "A |   |   |   \n",
      "   --- --- ---\n",
      "B |   |   |   \n",
      "   --- --- ---\n",
      "C |   |   |   \n",
      "   --- --- ---\n"
     ]
    },
    {
     "name": "stdin",
     "output_type": "stream",
     "text": [
      "Player 1, enter your move:  a3\n"
     ]
    },
    {
     "name": "stdout",
     "output_type": "stream",
     "text": [
      "    1   2   3 \n",
      "A |   |   | X \n",
      "   --- --- ---\n",
      "B |   |   |   \n",
      "   --- --- ---\n",
      "C |   |   |   \n",
      "   --- --- ---\n"
     ]
    },
    {
     "name": "stdin",
     "output_type": "stream",
     "text": [
      "Player 2, enter your move:  a2\n"
     ]
    },
    {
     "name": "stdout",
     "output_type": "stream",
     "text": [
      "    1   2   3 \n",
      "A |   | O | X \n",
      "   --- --- ---\n",
      "B |   |   |   \n",
      "   --- --- ---\n",
      "C |   |   |   \n",
      "   --- --- ---\n"
     ]
    },
    {
     "name": "stdin",
     "output_type": "stream",
     "text": [
      "Player 1, enter your move:  b2\n"
     ]
    },
    {
     "name": "stdout",
     "output_type": "stream",
     "text": [
      "    1   2   3 \n",
      "A |   | O | X \n",
      "   --- --- ---\n",
      "B |   | X |   \n",
      "   --- --- ---\n",
      "C |   |   |   \n",
      "   --- --- ---\n"
     ]
    },
    {
     "name": "stdin",
     "output_type": "stream",
     "text": [
      "Player 2, enter your move:  a1\n"
     ]
    },
    {
     "name": "stdout",
     "output_type": "stream",
     "text": [
      "    1   2   3 \n",
      "A | O | O | X \n",
      "   --- --- ---\n",
      "B |   | X |   \n",
      "   --- --- ---\n",
      "C |   |   |   \n",
      "   --- --- ---\n"
     ]
    },
    {
     "name": "stdin",
     "output_type": "stream",
     "text": [
      "Player 1, enter your move:  c1\n"
     ]
    },
    {
     "name": "stdout",
     "output_type": "stream",
     "text": [
      "    1   2   3 \n",
      "A | O | O | X \n",
      "   --- --- ---\n",
      "B |   | X |   \n",
      "   --- --- ---\n",
      "C | X |   |   \n",
      "   --- --- ---\n",
      "Player 1 wins!\n"
     ]
    }
   ],
   "source": [
    "# Test your solution here\n",
    "\n",
    "ttc_game_2player(size)"
   ]
  },
  {
   "cell_type": "markdown",
   "metadata": {},
   "source": [
    "*Exercise 10:* Test that your game works for 5x5 Tic Tac Toe.  "
   ]
  },
  {
   "cell_type": "code",
   "execution_count": 29,
   "metadata": {},
   "outputs": [
    {
     "name": "stdin",
     "output_type": "stream",
     "text": [
      "Do you want to start a Tic-Tac-Toe game? (Y/N):  y\n"
     ]
    },
    {
     "name": "stdout",
     "output_type": "stream",
     "text": [
      "    1   2   3   4   5 \n",
      "A |   |   |   |   |   \n",
      "   --- --- --- --- ---\n",
      "B |   |   |   |   |   \n",
      "   --- --- --- --- ---\n",
      "C |   |   |   |   |   \n",
      "   --- --- --- --- ---\n",
      "D |   |   |   |   |   \n",
      "   --- --- --- --- ---\n",
      "E |   |   |   |   |   \n",
      "   --- --- --- --- ---\n"
     ]
    },
    {
     "name": "stdin",
     "output_type": "stream",
     "text": [
      "Player 1, enter your move:  a1\n"
     ]
    },
    {
     "name": "stdout",
     "output_type": "stream",
     "text": [
      "    1   2   3   4   5 \n",
      "A | X |   |   |   |   \n",
      "   --- --- --- --- ---\n",
      "B |   |   |   |   |   \n",
      "   --- --- --- --- ---\n",
      "C |   |   |   |   |   \n",
      "   --- --- --- --- ---\n",
      "D |   |   |   |   |   \n",
      "   --- --- --- --- ---\n",
      "E |   |   |   |   |   \n",
      "   --- --- --- --- ---\n"
     ]
    },
    {
     "name": "stdin",
     "output_type": "stream",
     "text": [
      "Player 2, enter your move:  a2\n"
     ]
    },
    {
     "name": "stdout",
     "output_type": "stream",
     "text": [
      "    1   2   3   4   5 \n",
      "A | X | O |   |   |   \n",
      "   --- --- --- --- ---\n",
      "B |   |   |   |   |   \n",
      "   --- --- --- --- ---\n",
      "C |   |   |   |   |   \n",
      "   --- --- --- --- ---\n",
      "D |   |   |   |   |   \n",
      "   --- --- --- --- ---\n",
      "E |   |   |   |   |   \n",
      "   --- --- --- --- ---\n"
     ]
    },
    {
     "name": "stdin",
     "output_type": "stream",
     "text": [
      "Player 1, enter your move:  b2\n"
     ]
    },
    {
     "name": "stdout",
     "output_type": "stream",
     "text": [
      "    1   2   3   4   5 \n",
      "A | X | O |   |   |   \n",
      "   --- --- --- --- ---\n",
      "B |   | X |   |   |   \n",
      "   --- --- --- --- ---\n",
      "C |   |   |   |   |   \n",
      "   --- --- --- --- ---\n",
      "D |   |   |   |   |   \n",
      "   --- --- --- --- ---\n",
      "E |   |   |   |   |   \n",
      "   --- --- --- --- ---\n"
     ]
    },
    {
     "name": "stdin",
     "output_type": "stream",
     "text": [
      "Player 2, enter your move:  a3\n"
     ]
    },
    {
     "name": "stdout",
     "output_type": "stream",
     "text": [
      "    1   2   3   4   5 \n",
      "A | X | O | O |   |   \n",
      "   --- --- --- --- ---\n",
      "B |   | X |   |   |   \n",
      "   --- --- --- --- ---\n",
      "C |   |   |   |   |   \n",
      "   --- --- --- --- ---\n",
      "D |   |   |   |   |   \n",
      "   --- --- --- --- ---\n",
      "E |   |   |   |   |   \n",
      "   --- --- --- --- ---\n"
     ]
    },
    {
     "name": "stdin",
     "output_type": "stream",
     "text": [
      "Player 1, enter your move:  c3\n"
     ]
    },
    {
     "name": "stdout",
     "output_type": "stream",
     "text": [
      "    1   2   3   4   5 \n",
      "A | X | O | O |   |   \n",
      "   --- --- --- --- ---\n",
      "B |   | X |   |   |   \n",
      "   --- --- --- --- ---\n",
      "C |   |   | X |   |   \n",
      "   --- --- --- --- ---\n",
      "D |   |   |   |   |   \n",
      "   --- --- --- --- ---\n",
      "E |   |   |   |   |   \n",
      "   --- --- --- --- ---\n"
     ]
    },
    {
     "name": "stdin",
     "output_type": "stream",
     "text": [
      "Player 2, enter your move:  a4\n"
     ]
    },
    {
     "name": "stdout",
     "output_type": "stream",
     "text": [
      "    1   2   3   4   5 \n",
      "A | X | O | O | O |   \n",
      "   --- --- --- --- ---\n",
      "B |   | X |   |   |   \n",
      "   --- --- --- --- ---\n",
      "C |   |   | X |   |   \n",
      "   --- --- --- --- ---\n",
      "D |   |   |   |   |   \n",
      "   --- --- --- --- ---\n",
      "E |   |   |   |   |   \n",
      "   --- --- --- --- ---\n"
     ]
    },
    {
     "name": "stdin",
     "output_type": "stream",
     "text": [
      "Player 1, enter your move:  d4\n"
     ]
    },
    {
     "name": "stdout",
     "output_type": "stream",
     "text": [
      "    1   2   3   4   5 \n",
      "A | X | O | O | O |   \n",
      "   --- --- --- --- ---\n",
      "B |   | X |   |   |   \n",
      "   --- --- --- --- ---\n",
      "C |   |   | X |   |   \n",
      "   --- --- --- --- ---\n",
      "D |   |   |   | X |   \n",
      "   --- --- --- --- ---\n",
      "E |   |   |   |   |   \n",
      "   --- --- --- --- ---\n"
     ]
    },
    {
     "name": "stdin",
     "output_type": "stream",
     "text": [
      "Player 2, enter your move:  a5\n"
     ]
    },
    {
     "name": "stdout",
     "output_type": "stream",
     "text": [
      "    1   2   3   4   5 \n",
      "A | X | O | O | O | O \n",
      "   --- --- --- --- ---\n",
      "B |   | X |   |   |   \n",
      "   --- --- --- --- ---\n",
      "C |   |   | X |   |   \n",
      "   --- --- --- --- ---\n",
      "D |   |   |   | X |   \n",
      "   --- --- --- --- ---\n",
      "E |   |   |   |   |   \n",
      "   --- --- --- --- ---\n"
     ]
    },
    {
     "name": "stdin",
     "output_type": "stream",
     "text": [
      "Player 1, enter your move:  e5\n"
     ]
    },
    {
     "name": "stdout",
     "output_type": "stream",
     "text": [
      "    1   2   3   4   5 \n",
      "A | X | O | O | O | O \n",
      "   --- --- --- --- ---\n",
      "B |   | X |   |   |   \n",
      "   --- --- --- --- ---\n",
      "C |   |   | X |   |   \n",
      "   --- --- --- --- ---\n",
      "D |   |   |   | X |   \n",
      "   --- --- --- --- ---\n",
      "E |   |   |   |   | X \n",
      "   --- --- --- --- ---\n",
      "Player 1 wins!\n"
     ]
    }
   ],
   "source": [
    "# Test your solution here\n",
    "\n",
    "ttc_game_2player(size=5)"
   ]
  },
  {
   "cell_type": "code",
   "execution_count": null,
   "metadata": {},
   "outputs": [],
   "source": []
  },
  {
   "cell_type": "code",
   "execution_count": null,
   "metadata": {},
   "outputs": [],
   "source": []
  },
  {
   "cell_type": "markdown",
   "metadata": {},
   "source": [
    "*Exercise 11:* (Advanced / Challenge) Develop a version of the game where one player is the computer. Note that you don't need to do an extensive seach for the best move. You can have the computer simply protect against loosing and otherwise try to win with straight or diagonal patterns."
   ]
  },
  {
   "cell_type": "code",
   "execution_count": null,
   "metadata": {
    "collapsed": true,
    "jupyter": {
     "outputs_hidden": true
    }
   },
   "outputs": [],
   "source": [
    "# Write you solution here"
   ]
  },
  {
   "cell_type": "code",
   "execution_count": null,
   "metadata": {
    "collapsed": true,
    "jupyter": {
     "outputs_hidden": true
    }
   },
   "outputs": [],
   "source": [
    "# Test your solution here"
   ]
  }
 ],
 "metadata": {
  "kernelspec": {
   "display_name": "Python 3 (ipykernel)",
   "language": "python",
   "name": "python3"
  },
  "language_info": {
   "codemirror_mode": {
    "name": "ipython",
    "version": 3
   },
   "file_extension": ".py",
   "mimetype": "text/x-python",
   "name": "python",
   "nbconvert_exporter": "python",
   "pygments_lexer": "ipython3",
   "version": "3.10.12"
  }
 },
 "nbformat": 4,
 "nbformat_minor": 4
}
