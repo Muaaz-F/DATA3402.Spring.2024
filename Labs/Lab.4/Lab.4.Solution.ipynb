{
 "cells": [
  {
   "cell_type": "markdown",
   "metadata": {},
   "source": [
    "# Lab 4- Object Oriented Programming\n",
    "\n",
    "For all of the exercises below, make sure you provide tests of your solutions.\n"
   ]
  },
  {
   "cell_type": "markdown",
   "metadata": {},
   "source": [
    "1. Write a \"counter\" class that can be incremented up to a specified maximum value, will print an error if an attempt is made to increment beyond that value, and allows reseting the counter. "
   ]
  },
  {
   "cell_type": "code",
   "execution_count": 29,
   "metadata": {},
   "outputs": [],
   "source": [
    "class counter:\n",
    "    def __init__(self,max_value):\n",
    "        self.value = 0\n",
    "        self.max_value = max_value\n",
    "\n",
    "    def increment(self):\n",
    "        if self.value < self.max_value:\n",
    "            self.value += 1\n",
    "            print(\"Incremented to\", self.value)\n",
    "        else:\n",
    "            print(\"\\nError: Counter cannot be incremented beyond the maximum value.\\n\")\n",
    "\n",
    "    def reset(self):\n",
    "        self.value = 0\n",
    "        print(\"Counter reset to 0\")"
   ]
  },
  {
   "cell_type": "code",
   "execution_count": 30,
   "metadata": {},
   "outputs": [
    {
     "name": "stdout",
     "output_type": "stream",
     "text": [
      "Incremented to 1\n",
      "Incremented to 2\n",
      "Incremented to 3\n",
      "Incremented to 4\n",
      "Incremented to 5\n",
      "\n",
      "Error: Counter cannot be incremented beyond the maximum value.\n",
      "\n",
      "Counter reset to 0\n"
     ]
    }
   ],
   "source": [
    "# Test\n",
    "\n",
    "counter_object1 = counter(5)\n",
    "counter_object1.increment()\n",
    "counter_object1.increment()\n",
    "counter_object1.increment()\n",
    "counter_object1.increment()\n",
    "counter_object1.increment()\n",
    "counter_object1.increment()\n",
    "\n",
    "counter_object1.reset()"
   ]
  },
  {
   "cell_type": "code",
   "execution_count": 20,
   "metadata": {},
   "outputs": [
    {
     "name": "stdout",
     "output_type": "stream",
     "text": [
      "5\n"
     ]
    }
   ],
   "source": [
    "print(counter_object1.max_value)"
   ]
  },
  {
   "cell_type": "markdown",
   "metadata": {},
   "source": [
    "2. Copy and paste your solution to question 1 and modify it so that all the data held by the counter is private. Implement functions to check the value of the counter, check the maximum value, and check if the counter is at the maximum."
   ]
  },
  {
   "cell_type": "code",
   "execution_count": 27,
   "metadata": {},
   "outputs": [],
   "source": [
    "class counter2:\n",
    "    def __init__(self,max_value):\n",
    "        self._value = 0\n",
    "        self._max_value = max_value\n",
    "\n",
    "    def increment(self):\n",
    "        if self._value < self._max_value:\n",
    "            self._value += 1\n",
    "            print(\"Incremented to\", self._value)\n",
    "        else:\n",
    "            print(\"\\nError: Counter cannot be incremented beyond the maximum value.\\n\")\n",
    "\n",
    "    def reset(self):\n",
    "        self._value = 0\n",
    "        print(\"Counter reset to 0\")\n",
    "\n",
    "    def get_value(self):\n",
    "        return self._value\n",
    "\n",
    "    def get_max_value(self):\n",
    "        return self._max_value\n",
    "\n",
    "    def is_at_max(self):\n",
    "        return self._value == self._max_value        "
   ]
  },
  {
   "cell_type": "code",
   "execution_count": 28,
   "metadata": {},
   "outputs": [
    {
     "name": "stdout",
     "output_type": "stream",
     "text": [
      "Current value: 0\n",
      "Maximum value: 99\n",
      "Is at maximum value?: False\n"
     ]
    }
   ],
   "source": [
    "# Test\n",
    "\n",
    "counter_object2 = counter2(99)\n",
    "\n",
    "print(\"Current value:\", counter_object2.get_value())\n",
    "print(\"Maximum value:\", counter_object2.get_max_value())\n",
    "print(\"Is at maximum value?:\", counter_object2.is_at_max())\n"
   ]
  },
  {
   "cell_type": "markdown",
   "metadata": {},
   "source": [
    "3. Implement a class to represent a rectangle, holding the length, width, and $x$ and $y$ coordinates of a corner of the object. Implement functions that compute the area and perimeter of the rectangle. Make all data members private and provide accessors to retrieve values of data members. "
   ]
  },
  {
   "cell_type": "code",
   "execution_count": 37,
   "metadata": {},
   "outputs": [],
   "source": [
    "class rectangle:\n",
    "    def __init__(self, length, width, x, y):\n",
    "        self._length = length\n",
    "        self._width = width\n",
    "        self._x = x\n",
    "        self._y = y\n",
    "\n",
    "    def area(self):\n",
    "        print(\"Area of this rectangle is\", self._length * self._width, \"units\")\n",
    "\n",
    "    def perimeter(self):\n",
    "        print(\"Perimeter of this rectange is\", 2*(self._length + self._width), \"units\")\n",
    "\n",
    "    def get_length(self):\n",
    "        return self._length\n",
    "\n",
    "    def get_width(self):\n",
    "        return self._width\n",
    "\n",
    "    def get_x(self):\n",
    "        return self._x\n",
    "\n",
    "    def get_y(self):\n",
    "        return self._y"
   ]
  },
  {
   "cell_type": "code",
   "execution_count": 74,
   "metadata": {},
   "outputs": [
    {
     "name": "stdout",
     "output_type": "stream",
     "text": [
      "Area of this rectangle is 15 units\n",
      "Perimeter of this rectange is 16 units\n",
      "Length: 5\n",
      "Width: 3\n",
      "X coordinate: 1\n",
      "Y coordinate: 2\n"
     ]
    }
   ],
   "source": [
    "# Test\n",
    "\n",
    "rectangle_object1 = rectangle(length=5, width=3, x=1, y=2)\n",
    "\n",
    "rectangle_object1.area()\n",
    "rectangle_object1.perimeter()\n",
    "\n",
    "print(\"Length:\", rectangle_object1.get_length())\n",
    "print(\"Width:\", rectangle_object1.get_width())\n",
    "print(\"X coordinate:\", rectangle_object1.get_x())\n",
    "print(\"Y coordinate:\", rectangle_object1.get_y())"
   ]
  },
  {
   "cell_type": "markdown",
   "metadata": {},
   "source": [
    "4. Implement a class to represent a circle, holding the radius and $x$ and $y$ coordinates of center of the object. Implement functions that compute the area and perimeter of the rectangle. Make all data members private and provide accessors to retrieve values of data members. "
   ]
  },
  {
   "cell_type": "code",
   "execution_count": 88,
   "metadata": {},
   "outputs": [],
   "source": [
    "import numpy as np\n",
    "import math"
   ]
  },
  {
   "cell_type": "code",
   "execution_count": 89,
   "metadata": {},
   "outputs": [],
   "source": [
    "class circle:\n",
    "    def __init__(self, radius, x, y):\n",
    "        self._radius = radius\n",
    "        self._x = x\n",
    "        self._y = y\n",
    "\n",
    "    def area(self):\n",
    "        print(\"Area of this circle is\", round(np.pi*self._radius**2,3), \"units\")\n",
    "\n",
    "    def perimeter(self):\n",
    "        print(\"Perimeter of this circle is\", round(2*np.pi*self._radius,3), \"units\")\n",
    "\n",
    "    def get_radius(self):\n",
    "        return self._radius\n",
    "\n",
    "    def get_x(self):\n",
    "        return self._x\n",
    "\n",
    "    def get_y(self):\n",
    "        return self._y"
   ]
  },
  {
   "cell_type": "code",
   "execution_count": 90,
   "metadata": {},
   "outputs": [
    {
     "name": "stdout",
     "output_type": "stream",
     "text": [
      "Area of this circle is 78.54 units\n",
      "Perimeter of this circle is 31.416 units\n",
      "Radius: 5\n",
      "Origin's X coordinate: 0\n",
      "Origin's Y coordinate: 0\n"
     ]
    }
   ],
   "source": [
    "# Test\n",
    "\n",
    "circle_object1 = circle(radius=5, x=0, y=0)\n",
    "\n",
    "circle_object1.area()\n",
    "circle_object1.perimeter()\n",
    "\n",
    "print(\"Radius:\", circle_object1.get_radius())\n",
    "print(\"Origin's X coordinate:\", circle_object1.get_x())\n",
    "print(\"Origin's Y coordinate:\", circle_object1.get_y())"
   ]
  },
  {
   "cell_type": "markdown",
   "metadata": {},
   "source": [
    "5. Implement a common base class for the classes implemented in 3 and 4 above which implements all common methods as not implemented functions (virtual). Re-implement your rectangle and circule classes to inherit from the base class and overload the functions accordingly. "
   ]
  },
  {
   "cell_type": "code",
   "execution_count": 115,
   "metadata": {},
   "outputs": [],
   "source": [
    "class Shape:\n",
    "    def __init__(self, x, y):\n",
    "        self._x = x\n",
    "        self._y = y\n",
    "\n",
    "    def area(self):\n",
    "        raise NotImplementedError(\"Subclasses must implement the 'area' method.\")\n",
    "\n",
    "    def perimeter(self):\n",
    "        raise NotImplementedError(\"Subclasses must implement the 'perimeter' method.\")\n",
    "\n",
    "    def get_x(self):\n",
    "        return self._x\n",
    "\n",
    "    def get_y(self):\n",
    "        return self._y"
   ]
  },
  {
   "cell_type": "code",
   "execution_count": 116,
   "metadata": {},
   "outputs": [],
   "source": [
    "class rectangle2(Shape):\n",
    "    def __init__(self, length, width, x, y):\n",
    "        super().__init__(x, y)\n",
    "        self._length = length\n",
    "        self._width = width\n",
    "\n",
    "    def area(self):\n",
    "        print(\"Area of this rectangle is\", self._length * self._width, \"units\")\n",
    "\n",
    "    def perimeter(self):\n",
    "        print(\"Perimeter of this rectange is\", 2*(self._length + self._width), \"units\")\n",
    "\n",
    "    def get_length(self):\n",
    "        return self._length\n",
    "\n",
    "    def get_width(self):\n",
    "        return self._width"
   ]
  },
  {
   "cell_type": "code",
   "execution_count": 117,
   "metadata": {},
   "outputs": [],
   "source": [
    "class circle2(Shape):\n",
    "    def __init__(self, radius, x, y):\n",
    "        super().__init__(x, y)\n",
    "        self._radius = radius\n",
    "\n",
    "    def area(self):\n",
    "        print(\"Area of this circle is\", round(np.pi*self._radius**2,3), \"units\")\n",
    "\n",
    "    def perimeter(self):\n",
    "        print(\"Perimeter of this circle is\", round(2*np.pi*self._radius,3), \"units\")\n",
    "\n",
    "    def get_radius(self):\n",
    "        return self._radius"
   ]
  },
  {
   "cell_type": "code",
   "execution_count": 127,
   "metadata": {},
   "outputs": [
    {
     "name": "stdout",
     "output_type": "stream",
     "text": [
      "Area of this rectangle is 15 units\n",
      "Perimeter of this rectange is 16 units\n",
      "Length: 5\n",
      "Width: 3\n",
      "X coordinate: 1\n",
      "Y coordinate: 2\n"
     ]
    }
   ],
   "source": [
    "# Test\n",
    "\n",
    "rectangle_object2 = rectangle2(length=5, width=3, x=1, y=2)\n",
    "\n",
    "rectangle_object2.area()\n",
    "rectangle_object2.perimeter()\n",
    "\n",
    "print(\"Length:\", rectangle_object2.get_length())\n",
    "print(\"Width:\", rectangle_object2.get_width())\n",
    "print(\"X coordinate:\", rectangle_object2.get_x())\n",
    "print(\"Y coordinate:\", rectangle_object2.get_y())"
   ]
  },
  {
   "cell_type": "code",
   "execution_count": 119,
   "metadata": {},
   "outputs": [
    {
     "name": "stdout",
     "output_type": "stream",
     "text": [
      "Area of this circle is 78.54 units\n",
      "Perimeter of this circle is 31.416 units\n",
      "Radius: 5\n",
      "Origin's X coordinate: 0\n",
      "Origin's Y coordinate: 0\n"
     ]
    }
   ],
   "source": [
    "circle_object2 = circle2(radius=5, x=0, y=0)\n",
    "\n",
    "circle_object2.area()\n",
    "circle_object2.perimeter()\n",
    "\n",
    "print(\"Radius:\", circle_object2.get_radius())\n",
    "print(\"Origin's X coordinate:\", circle_object2.get_x())\n",
    "print(\"Origin's Y coordinate:\", circle_object2.get_y())"
   ]
  },
  {
   "cell_type": "code",
   "execution_count": 120,
   "metadata": {},
   "outputs": [],
   "source": [
    "from numpy import sqrt "
   ]
  },
  {
   "cell_type": "markdown",
   "metadata": {},
   "source": [
    "6. Implement a triangle class analogous to the rectangle and circle in question 5."
   ]
  },
  {
   "cell_type": "code",
   "execution_count": 121,
   "metadata": {},
   "outputs": [],
   "source": [
    "class triangle(Shape):\n",
    "    def __init__(self, side1, side2, side3, x, y):\n",
    "        super().__init__(x, y)\n",
    "        self._side1 = side1\n",
    "        self._side2 = side2\n",
    "        self._side3 = side3\n",
    "\n",
    "    def perimeter(self):\n",
    "        print(\"Perimeter of this traingle is\", self._side1 + self._side2 + self._side3, \"units\")\n",
    "\n",
    "    def area(self): # Using Heron's Formula\n",
    "        s = (self._side1 + self._side2 + self._side3)/2\n",
    "        print(\"Area of this traingle is\", sqrt(s*(s-self._side1)*(s-self._side2)*(s-self._side3)), \"units\")\n",
    "\n",
    "    def get_side1(self):\n",
    "        return self._side1\n",
    "\n",
    "    def get_side2(self):\n",
    "        return self._side2\n",
    "\n",
    "    def get_side3(self):\n",
    "        return self._side3"
   ]
  },
  {
   "cell_type": "code",
   "execution_count": 122,
   "metadata": {},
   "outputs": [
    {
     "name": "stdout",
     "output_type": "stream",
     "text": [
      "Area of this traingle is 6.0 units\n",
      "Perimeter of this traingle is 12 units\n",
      "Side 1: 3\n",
      "Side 2: 4\n",
      "Side 3: 5\n",
      "X coordinate: 0\n",
      "Y coordinate: 0\n"
     ]
    }
   ],
   "source": [
    "# Test\n",
    "\n",
    "triangle_object1 = triangle(side1 = 3, side2 = 4, side3= 5, x=0, y=0)\n",
    "\n",
    "triangle_object1.area()\n",
    "triangle_object1.perimeter()\n",
    "\n",
    "print(\"Side 1:\", triangle_object1.get_side1())\n",
    "print(\"Side 2:\", triangle_object1.get_side2())\n",
    "print(\"Side 3:\", triangle_object1.get_side3())\n",
    "print(\"X coordinate:\", triangle_object1.get_x())\n",
    "print(\"Y coordinate:\", triangle_object1.get_y())"
   ]
  },
  {
   "cell_type": "code",
   "execution_count": null,
   "metadata": {},
   "outputs": [],
   "source": []
  },
  {
   "cell_type": "markdown",
   "metadata": {},
   "source": [
    "7. Add a function to the object classes, including the base, that returns a list of up to 16 pairs of  $x$ and $y$ points on the perimeter of the object. "
   ]
  },
  {
   "cell_type": "code",
   "execution_count": 125,
   "metadata": {},
   "outputs": [],
   "source": [
    "class Shape2:\n",
    "    def __init__(self, x, y):\n",
    "        self._x = x\n",
    "        self._y = y\n",
    "\n",
    "    def area(self):\n",
    "        raise NotImplementedError(\"Subclasses must implement the 'area' method.\")\n",
    "\n",
    "    def perimeter(self):\n",
    "        raise NotImplementedError(\"Subclasses must implement the 'perimeter' method.\")\n",
    "\n",
    "    def get_x(self):\n",
    "        return self._x\n",
    "\n",
    "    def get_y(self):\n",
    "        return self._y\n",
    "\n",
    "    def perimeter_points(self, num_points=16):\n",
    "        raise NotImplementedError(\"Subclasses must implement the 'perimeter_points' method.\")\n"
   ]
  },
  {
   "cell_type": "code",
   "execution_count": 143,
   "metadata": {},
   "outputs": [],
   "source": [
    "class rectangle3(Shape2):\n",
    "    def __init__(self, length, width, x, y):\n",
    "        super().__init__(x, y)\n",
    "        self._length = length\n",
    "        self._width = width\n",
    "\n",
    "    def area(self):\n",
    "        print(\"Area of this rectangle is\", self._length * self._width, \"units\")\n",
    "\n",
    "    def perimeter(self):\n",
    "        print(\"Perimeter of this rectange is\", 2*(self._length + self._width), \"units\")\n",
    "\n",
    "    def get_length(self):\n",
    "        return self._length\n",
    "\n",
    "    def get_width(self):\n",
    "        return self._width\n",
    "\n",
    "    def perimeter_points(self, num_points=16):\n",
    "\n",
    "        points = set()\n",
    "\n",
    "        vertices = [\n",
    "            (self._x, self._y),\n",
    "            (self._x + self._length, self._y),\n",
    "            (self._x + self._length, self._y - self._width),\n",
    "            (self._x, self._y - self._width)\n",
    "        ]\n",
    "\n",
    "        points.update(vertices)\n",
    "\n",
    "        for i in range(4):\n",
    "            start_x, start_y = vertices[i]\n",
    "            end_x, end_y = vertices[(i + 1) % 4]\n",
    "\n",
    "            for j in range(1, 3):\n",
    "                t = j / 3\n",
    "                x_coord = round((1 - t) * start_x + t * end_x, 2)\n",
    "                y_coord = round((1 - t) * start_y + t * end_y, 2)\n",
    "                points.add((x_coord, y_coord))\n",
    "\n",
    "        return list(points)"
   ]
  },
  {
   "cell_type": "code",
   "execution_count": 138,
   "metadata": {},
   "outputs": [
    {
     "name": "stdout",
     "output_type": "stream",
     "text": [
      "Area of this rectangle is 15 units\n",
      "Perimeter of this rectange is 16 units\n",
      "Length: 5\n",
      "Width: 3\n",
      "X coordinate: 1\n",
      "Y coordinate: 2\n",
      "Points on the perimeter of rectangle: [(2.67, 2.0), (6, 2), (1, 2), (4.33, 2.0), (6.0, 1.0), (1.0, 1.0), (2.67, -1.0), (6, -1), (1, -1), (4.33, -1.0), (6.0, 0.0), (1.0, -0.0)]\n"
     ]
    }
   ],
   "source": [
    "# Test\n",
    "\n",
    "rectangle_object3 = rectangle3(length=5, width=3, x=1, y=2)\n",
    "\n",
    "rectangle_object3.area()\n",
    "rectangle_object3.perimeter()\n",
    "\n",
    "print(\"Length:\", rectangle_object3.get_length())\n",
    "print(\"Width:\", rectangle_object3.get_width())\n",
    "print(\"X coordinate:\", rectangle_object3.get_x())\n",
    "print(\"Y coordinate:\", rectangle_object3.get_y())\n",
    "\n",
    "print(\"Points on the perimeter of rectangle:\", rectangle_object3.perimeter_points())\n"
   ]
  },
  {
   "cell_type": "code",
   "execution_count": 139,
   "metadata": {},
   "outputs": [],
   "source": [
    "import matplotlib.pyplot as plt"
   ]
  },
  {
   "cell_type": "code",
   "execution_count": 145,
   "metadata": {},
   "outputs": [
    {
     "data": {
      "image/png": "[encoded data removed]",
      "text/plain": [
       "<Figure size 640x480 with 1 Axes>"
      ]
     },
     "metadata": {},
     "output_type": "display_data"
    }
   ],
   "source": [
    "\n",
    "perimeter_points = rectangle_object3.perimeter_points()\n",
    "\n",
    "x_coords, y_coords = zip(*perimeter_points)\n",
    "\n",
    "# Plot the points\n",
    "plt.scatter(x_coords, y_coords, color='red', marker='o')\n",
    "plt.xlabel('X-axis')\n",
    "plt.ylabel('Y-axis')\n",
    "plt.title('Rectangle Perimeter Points')\n",
    "plt.grid(True)\n",
    "plt.show()"
   ]
  },
  {
   "cell_type": "code",
   "execution_count": 146,
   "metadata": {},
   "outputs": [],
   "source": [
    "class circle3(Shape2):\n",
    "    def __init__(self, radius, x, y):\n",
    "        super().__init__(x, y)\n",
    "        self._radius = radius\n",
    "\n",
    "    def area(self):\n",
    "        print(\"Area of this circle is\", round(np.pi * self._radius**2, 2), \"units\")\n",
    "\n",
    "    def perimeter(self):\n",
    "        print(\"Perimeter of this circle is\", round(2 * np.pi * self._radius, 2), \"units\")\n",
    "\n",
    "    def get_radius(self):\n",
    "        return self._radius\n",
    "\n",
    "    def perimeter_points(self, num_points=16):\n",
    "        points = []\n",
    "\n",
    "        for i in range(num_points):\n",
    "            theta = 2 * np.pi * i / num_points\n",
    "            x_coord = round(self._x + self._radius * np.cos(theta), 2)\n",
    "            y_coord = round(self._y + self._radius * np.sin(theta), 2)\n",
    "            points.append((x_coord, y_coord))\n",
    "\n",
    "        return points"
   ]
  },
  {
   "cell_type": "code",
   "execution_count": 147,
   "metadata": {},
   "outputs": [
    {
     "name": "stdout",
     "output_type": "stream",
     "text": [
      "Area of this circle is 78.54 units\n",
      "Perimeter of this circle is 31.42 units\n",
      "Radius: 5\n",
      "Origin's X coordinate: 0\n",
      "Origin's Y coordinate: 0\n",
      "Points on the perimeter of circle: [(5.0, 0.0), (4.62, 1.91), (3.54, 3.54), (1.91, 4.62), (0.0, 5.0), (-1.91, 4.62), (-3.54, 3.54), (-4.62, 1.91), (-5.0, 0.0), (-4.62, -1.91), (-3.54, -3.54), (-1.91, -4.62), (-0.0, -5.0), (1.91, -4.62), (3.54, -3.54), (4.62, -1.91)]\n"
     ]
    }
   ],
   "source": [
    "circle_object3 = circle3(radius=5, x=0, y=0)\n",
    "\n",
    "circle_object3.area()\n",
    "circle_object3.perimeter()\n",
    "\n",
    "print(\"Radius:\", circle_object3.get_radius())\n",
    "print(\"Origin's X coordinate:\", circle_object3.get_x())\n",
    "print(\"Origin's Y coordinate:\", circle_object3.get_y())\n",
    "\n",
    "print(\"Points on the perimeter of circle:\", circle_object3.perimeter_points())\n"
   ]
  },
  {
   "cell_type": "code",
   "execution_count": 154,
   "metadata": {},
   "outputs": [
    {
     "data": {
      "image/png": "[encoded data removed]",
      "text/plain": [
       "<Figure size 640x480 with 1 Axes>"
      ]
     },
     "metadata": {},
     "output_type": "display_data"
    }
   ],
   "source": [
    "perimeter_points2 = circle_object3.perimeter_points()\n",
    "\n",
    "x_coords2, y_coords2 = zip(*perimeter_points2)\n",
    "\n",
    "plt.scatter(x_coords2, y_coords2, color='red', marker='o')\n",
    "plt.xlabel('X-axis')\n",
    "plt.ylabel('Y-axis')\n",
    "plt.title('Circle Perimeter Points')\n",
    "plt.grid(True)\n",
    "plt.show()"
   ]
  },
  {
   "cell_type": "code",
   "execution_count": 163,
   "metadata": {},
   "outputs": [],
   "source": [
    "class triangle2(Shape2):\n",
    "    def __init__(self, side1, side2, side3, x, y):\n",
    "        super().__init__(x, y)\n",
    "        self._side1 = side1\n",
    "        self._side2 = side2\n",
    "        self._side3 = side3\n",
    "\n",
    "    def perimeter(self):\n",
    "        print(\"Perimeter of this triangle is\", self._side1 + self._side2 + self._side3, \"units\")\n",
    "\n",
    "    def area(self):  # Using Heron's Formula\n",
    "        s = (self._side1 + self._side2 + self._side3) / 2\n",
    "        print(\"Area of this triangle is\", sqrt(s * (s - self._side1) * (s - self._side2) * (s - self._side3)), \"units\")\n",
    "\n",
    "    def get_side1(self):\n",
    "        return self._side1\n",
    "\n",
    "    def get_side2(self):\n",
    "        return self._side2\n",
    "\n",
    "    def get_side3(self):\n",
    "        return self._side3\n",
    "\n",
    "    def perimeter_points(self, num_points=16):\n",
    "        points = set()\n",
    "\n",
    "        vertices = [\n",
    "            (self._x, self._y),\n",
    "            (self._x + self._side1, self._y),\n",
    "            (self._x + self._side1 - (self._side3**2 - self._side2**2) / (2 * self._side1), self._y - sqrt(self._side3**2 - ((self._side3**2 - self._side2**2) / (2 * self._side1))**2))\n",
    "        ]\n",
    "\n",
    "        points.update(vertices)\n",
    "\n",
    "        for i in range(3):\n",
    "            start_x, start_y = vertices[i]\n",
    "            end_x, end_y = vertices[(i + 1) % 3]\n",
    "\n",
    "            for j in range(1, 5):\n",
    "                t = j / 5 \n",
    "                x_coord = round((1 - t) * start_x + t * end_x, 2)\n",
    "                y_coord = round((1 - t) * start_y + t * end_y, 2)\n",
    "                points.add((x_coord, y_coord))\n",
    "\n",
    "        return list(points)\n"
   ]
  },
  {
   "cell_type": "code",
   "execution_count": 161,
   "metadata": {},
   "outputs": [
    {
     "name": "stdout",
     "output_type": "stream",
     "text": [
      "Area of this triangle is 6.0 units\n",
      "Perimeter of this triangle is 12 units\n",
      "Side 1: 3\n",
      "Side 2: 4\n",
      "Side 3: 5\n",
      "X coordinate: 0\n",
      "Y coordinate: 0\n",
      "Points on the perimeter of Traingle: [(2.4, 0.0), (1.8, -3.82), (0.6, 0.0), (1.5, -4.769696007084728), (0, 0), (1.2, -3.82), (0.9, -2.86), (1.2, 0.0), (1.8, 0.0), (2.4, -1.91), (2.1, -2.86), (3, 0), (0.6, -1.91), (2.7, -0.95), (0.3, -0.95)]\n"
     ]
    }
   ],
   "source": [
    "# Test\n",
    "\n",
    "triangle_object2 = triangle2(side1 = 3, side2 = 4, side3= 5, x=0, y=0)\n",
    "\n",
    "triangle_object2.area()\n",
    "triangle_object2.perimeter()\n",
    "\n",
    "print(\"Side 1:\", triangle_object2.get_side1())\n",
    "print(\"Side 2:\", triangle_object2.get_side2())\n",
    "print(\"Side 3:\", triangle_object2.get_side3())\n",
    "print(\"X coordinate:\", triangle_object2.get_x())\n",
    "print(\"Y coordinate:\", triangle_object2.get_y())\n",
    "\n",
    "print(\"Points on the perimeter of Traingle:\", triangle_object2.perimeter_points())\n"
   ]
  },
  {
   "cell_type": "code",
   "execution_count": 162,
   "metadata": {},
   "outputs": [
    {
     "data": {
      "image/png": "[encoded data removed]",
      "text/plain": [
       "<Figure size 640x480 with 1 Axes>"
      ]
     },
     "metadata": {},
     "output_type": "display_data"
    }
   ],
   "source": [
    "perimeter_points3 = triangle_object2.perimeter_points()\n",
    "\n",
    "x_coords3, y_coords3 = zip(*perimeter_points3)\n",
    "\n",
    "plt.scatter(x_coords3, y_coords3, color='red', marker='o')\n",
    "plt.xlabel('X-axis')\n",
    "plt.ylabel('Y-axis')\n",
    "plt.title('Circle Perimeter Points')\n",
    "plt.grid(True)\n",
    "plt.show()"
   ]
  },
  {
   "cell_type": "code",
   "execution_count": null,
   "metadata": {},
   "outputs": [],
   "source": []
  },
  {
   "cell_type": "code",
   "execution_count": null,
   "metadata": {},
   "outputs": [],
   "source": []
  },
  {
   "cell_type": "markdown",
   "metadata": {},
   "source": [
    "8. Add a function to the object classes, including the base, that tests if a given set of $x$ and $y$ coordinates are inside of the object. You'll have to think through how to determine if a set of coordinates are inside an object for each object type."
   ]
  },
  {
   "cell_type": "code",
   "execution_count": 220,
   "metadata": {},
   "outputs": [],
   "source": [
    "class Shape2:\n",
    "    def __init__(self, x, y):\n",
    "        self._x = x\n",
    "        self._y = y\n",
    "\n",
    "    def area(self):\n",
    "        raise NotImplementedError(\"Subclasses must implement the 'area' method.\")\n",
    "\n",
    "    def perimeter(self):\n",
    "        raise NotImplementedError(\"Subclasses must implement the 'perimeter' method.\")\n",
    "\n",
    "    def get_x(self):\n",
    "        return self._x\n",
    "\n",
    "    def get_y(self):\n",
    "        return self._y\n",
    "\n",
    "    def perimeter_points(self, num_points=16):\n",
    "        raise NotImplementedError(\"Subclasses must implement the 'perimeter_points' method.\")\n",
    "\n",
    "    def is_inside(self, test_x, test_y):\n",
    "        raise NotImplementedError(\"Subclasses must implement the 'is_inside' method.\")\n",
    "\n",
    "class rectangle3(Shape2):\n",
    "    \n",
    "    def __init__(self, length, width, x, y):\n",
    "        super().__init__(x, y)\n",
    "        self._length = length\n",
    "        self._width = width\n",
    "\n",
    "    def area(self):\n",
    "        print(\"Area of this rectangle is\", self._length * self._width, \"units\")\n",
    "\n",
    "    def perimeter(self):\n",
    "        print(\"Perimeter of this rectange is\", 2*(self._length + self._width), \"units\")\n",
    "\n",
    "    def get_length(self):\n",
    "        return self._length\n",
    "\n",
    "    def get_width(self):\n",
    "        return self._width\n",
    "\n",
    "    def perimeter_points(self, num_points=16):\n",
    "\n",
    "        points = set()\n",
    "\n",
    "        vertices = [\n",
    "            (self._x, self._y),\n",
    "            (self._x + self._length, self._y),\n",
    "            (self._x + self._length, self._y - self._width),\n",
    "            (self._x, self._y - self._width)\n",
    "        ]\n",
    "\n",
    "        points.update(vertices)\n",
    "\n",
    "        for i in range(4):\n",
    "            start_x, start_y = vertices[i]\n",
    "            end_x, end_y = vertices[(i + 1) % 4]\n",
    "\n",
    "            for j in range(1, 3):\n",
    "                t = j / 3\n",
    "                x_coord = round((1 - t) * start_x + t * end_x, 2)\n",
    "                y_coord = round((1 - t) * start_y + t * end_y, 2)\n",
    "                points.add((x_coord, y_coord))\n",
    "\n",
    "        return list(points)\n",
    "\n",
    "    def is_inside(self, test_x, test_y):\n",
    "        return self._x <= test_x <= self._x + self._length and self._y - self._width <= test_y <= self._y\n",
    "\n",
    "class circle3(Shape2):\n",
    "    def __init__(self, radius, x, y):\n",
    "        super().__init__(x, y)\n",
    "        self._radius = radius\n",
    "\n",
    "    def area(self):\n",
    "        print(\"Area of this circle is\", round(np.pi * self._radius**2, 2), \"units\")\n",
    "\n",
    "    def perimeter(self):\n",
    "        print(\"Perimeter of this circle is\", round(2 * np.pi * self._radius, 2), \"units\")\n",
    "\n",
    "    def get_radius(self):\n",
    "        return self._radius\n",
    "\n",
    "    def perimeter_points(self, num_points=16):\n",
    "        points = []\n",
    "\n",
    "        for i in range(num_points):\n",
    "            theta = 2 * np.pi * i / num_points\n",
    "            x_coord = round(self._x + self._radius * np.cos(theta), 2)\n",
    "            y_coord = round(self._y + self._radius * np.sin(theta), 2)\n",
    "            points.append((x_coord, y_coord))\n",
    "\n",
    "        return points\n",
    "\n",
    "    def is_inside(self, test_x, test_y):\n",
    "        distance_squared = (test_x - self._x)**2 + (test_y - self._y)**2\n",
    "        return distance_squared <= self._radius**2\n",
    "\n",
    "class triangle2(Shape2):\n",
    "    \n",
    "    def __init__(self, side1, side2, side3, x, y):\n",
    "        super().__init__(x, y)\n",
    "        self._side1 = side1\n",
    "        self._side2 = side2\n",
    "        self._side3 = side3\n",
    "\n",
    "    def perimeter(self):\n",
    "        print(\"Perimeter of this triangle is\", self._side1 + self._side2 + self._side3, \"units\")\n",
    "\n",
    "    def area(self):  # Using Heron's Formula\n",
    "        s = (self._side1 + self._side2 + self._side3) / 2\n",
    "        print(\"Area of this triangle is\", sqrt(s * (s - self._side1) * (s - self._side2) * (s - self._side3)), \"units\")\n",
    "\n",
    "    def get_side1(self):\n",
    "        return self._side1\n",
    "\n",
    "    def get_side2(self):\n",
    "        return self._side2\n",
    "\n",
    "    def get_side3(self):\n",
    "        return self._side3\n",
    "\n",
    "    def perimeter_points(self, num_points=16):\n",
    "        points = set()\n",
    "\n",
    "        vertices = [\n",
    "            (self._x, self._y),\n",
    "            (self._x + self._side1, self._y),\n",
    "            (self._x + self._side1 - (self._side3**2 - self._side2**2) / (2 * self._side1), self._y - sqrt(self._side3**2 - ((self._side3**2 - self._side2**2) / (2 * self._side1))**2))\n",
    "        ]\n",
    "\n",
    "        points.update(vertices)\n",
    "\n",
    "        for i in range(3):\n",
    "            start_x, start_y = vertices[i]\n",
    "            end_x, end_y = vertices[(i + 1) % 3]\n",
    "\n",
    "            for j in range(1, 5):\n",
    "                t = j / 5 \n",
    "                x_coord = round((1 - t) * start_x + t * end_x, 2)\n",
    "                y_coord = round((1 - t) * start_y + t * end_y, 2)\n",
    "                points.add((x_coord, y_coord))\n",
    "\n",
    "        return list(points)\n",
    "    \n",
    "    def is_inside(self, test_x, test_y):\n",
    "        def sign(p1, p2, p3):\n",
    "            return (p1[0] - p3[0]) * (p2[1] - p3[1]) - (p2[0] - p3[0]) * (p1[1] - p3[1])\n",
    "\n",
    "        d1 = sign((test_x, test_y), (self._x, self._y), (self._x + self._side1, self._y))\n",
    "        d2 = sign((test_x, test_y), (self._x + self._side1, self._y), (self._x + self._side1 - self._side3, self._y - self._side2))\n",
    "        d3 = sign((test_x, test_y), (self._x + self._side1 - self._side3, self._y - self._side2), (self._x, self._y))\n",
    "\n",
    "        has_neg = (d1 < 0) or (d2 < 0) or (d3 < 0)\n",
    "        has_pos = (d1 > 0) or (d2 > 0) or (d3 > 0)\n",
    "\n",
    "        return not (has_neg and has_pos)"
   ]
  },
  {
   "cell_type": "code",
   "execution_count": 221,
   "metadata": {},
   "outputs": [
    {
     "name": "stdout",
     "output_type": "stream",
     "text": [
      "Is point (2, 2) inside the rectangle? True\n",
      "Is point (5, 4) inside the rectangle? False\n",
      "\n"
     ]
    }
   ],
   "source": [
    "# Test for Rectangle\n",
    "rectangle_object4 = rectangle3(length=4, width=2, x=1, y=3)\n",
    "print(\"Is point (2, 2) inside the rectangle?\", rectangle_object4.is_inside(2, 2))  # Output: True\n",
    "print(\"Is point (5, 4) inside the rectangle?\", rectangle_object4.is_inside(5, 4))  # Output: False\n",
    "print()"
   ]
  },
  {
   "cell_type": "code",
   "execution_count": 222,
   "metadata": {},
   "outputs": [
    {
     "name": "stdout",
     "output_type": "stream",
     "text": [
      "Is point (2, 2) inside the circle? True\n",
      "Is point (5, 4) inside the circle? False\n",
      "\n"
     ]
    }
   ],
   "source": [
    "# Test for Circle\n",
    "circle_object4 = circle3(radius=3, x=0, y=0)\n",
    "print(\"Is point (2, 2) inside the circle?\", circle_object4.is_inside(2, 2))  # Output: True\n",
    "print(\"Is point (5, 4) inside the circle?\", circle_object4.is_inside(5, 4))  # Output: False\n",
    "print()"
   ]
  },
  {
   "cell_type": "code",
   "execution_count": 223,
   "metadata": {},
   "outputs": [
    {
     "name": "stdout",
     "output_type": "stream",
     "text": [
      "Is point (5, 4) inside the triangle? False\n"
     ]
    }
   ],
   "source": [
    "# Test for Triangle\n",
    "triangle_object3 = triangle2(side1=3, side2=4, side3=5, x=0, y=0)\n",
    "print(\"Is point (5, 4) inside the triangle?\", triangle_object3.is_inside(5, 4))  # Output: False"
   ]
  },
  {
   "cell_type": "markdown",
   "metadata": {},
   "source": [
    "9. Add a function in the base class of the object classes that returns true/false testing that the object overlaps with another object."
   ]
  },
  {
   "cell_type": "code",
   "execution_count": 226,
   "metadata": {},
   "outputs": [],
   "source": [
    "class Shape2:\n",
    "    def __init__(self, x, y):\n",
    "        self._x = x\n",
    "        self._y = y\n",
    "\n",
    "    def area(self):\n",
    "        raise NotImplementedError(\"Subclasses must implement the 'area' method.\")\n",
    "\n",
    "    def perimeter(self):\n",
    "        raise NotImplementedError(\"Subclasses must implement the 'perimeter' method.\")\n",
    "\n",
    "    def get_x(self):\n",
    "        return self._x\n",
    "\n",
    "    def get_y(self):\n",
    "        return self._y\n",
    "\n",
    "    def perimeter_points(self, num_points=16):\n",
    "        raise NotImplementedError(\"Subclasses must implement the 'perimeter_points' method.\")\n",
    "\n",
    "    def is_inside(self, test_x, test_y):\n",
    "        raise NotImplementedError(\"Subclasses must implement the 'is_inside' method.\")\n",
    "\n",
    "    def overlap(self, other):\n",
    "        points1 = self.perimeter_points()\n",
    "        points2 = other.perimeter_points()\n",
    "\n",
    "        # Check if any point from one shape falls inside another shape\n",
    "        for point1 in points1:\n",
    "            if point1 in points2:\n",
    "                return True\n",
    "\n",
    "        return False\n",
    "\n",
    "    #############################################################################################"
   ]
  },
  {
   "cell_type": "code",
   "execution_count": 229,
   "metadata": {},
   "outputs": [
    {
     "name": "stdout",
     "output_type": "stream",
     "text": [
      "Does the rectangle overlap with the circle? False\n",
      "Does the circle overlap with the triangle? False\n",
      "Does the triangle overlap with the rectangle? True\n",
      "Does the rectangle overlap with the test rectangle? True\n"
     ]
    }
   ],
   "source": [
    "# Create another shape (for testing overlap)\n",
    "test_rectangle = rectangle3(length=2, width=2, x=2, y=2)\n",
    "\n",
    "# Test overlap between different shapes\n",
    "print(\"Does the rectangle overlap with the circle?\", rectangle_object.overlap(circle_object))  # Output: False\n",
    "print(\"Does the circle overlap with the triangle?\", circle_object.overlap(triangle_object))  # Output: False\n",
    "print(\"Does the triangle overlap with the rectangle?\", triangle_object.overlap(rectangle_object))  # Output: False\n",
    "\n",
    "# Test specific overlap between different shapes\n",
    "print(\"Does the rectangle overlap with the test rectangle?\", rectangle_object.overlap(test_rectangle))  # Output: True\n"
   ]
  },
  {
   "cell_type": "code",
   "execution_count": null,
   "metadata": {},
   "outputs": [],
   "source": []
  },
  {
   "cell_type": "code",
   "execution_count": null,
   "metadata": {},
   "outputs": [],
   "source": []
  },
  {
   "cell_type": "markdown",
   "metadata": {},
   "source": [
    "10. Copy the `Canvas` class from lecture to in a python file creating a `paint` module. Copy your classes from above into the module and implement paint functions. Implement a `CompoundShape` class. Create a simple drawing demonstrating that all of your classes are working."
   ]
  },
  {
   "cell_type": "code",
   "execution_count": 244,
   "metadata": {},
   "outputs": [],
   "source": [
    "class Canvas:\n",
    "    def __init__(self, width, height):\n",
    "        self.width = width\n",
    "        self.height = height\n",
    "        self.data = [[' '] * width for i in range(height)]\n",
    "\n",
    "    def set_pixel(self, row, col, char='*'):\n",
    "        self.data[row][col] = char\n",
    "\n",
    "    def get_pixel(self, row, col):\n",
    "        return self.data[row][col]\n",
    "    \n",
    "    def clear_canvas(self):\n",
    "        self.data = [[' '] * self.width for i in range(self.height)]\n",
    "    \n",
    "    def v_line(self, x, y, w, **kargs):\n",
    "        for i in range(x,x+w):\n",
    "            self.set_pixel(i,y, **kargs)\n",
    "\n",
    "    def h_line(self, x, y, h, **kargs):\n",
    "        for i in range(y,y+h):\n",
    "            self.set_pixel(x,i, **kargs)\n",
    "            \n",
    "    def line(self, x1, y1, x2, y2, **kargs):\n",
    "        slope = (y2 - y1) / (x2 - x1) if (x2 - x1) != 0 else 0\n",
    "\n",
    "        for x in range(x1, x2):\n",
    "            y = int(y1 + slope * (x - x1))\n",
    "            self.set_pixel(y, x, **kargs)\n",
    "            \n",
    "    def display(self):\n",
    "        print(\"\\n\".join([\"\".join(row) for row in self.data]))"
   ]
  },
  {
   "cell_type": "code",
   "execution_count": 251,
   "metadata": {},
   "outputs": [],
   "source": [
    "class Shape2:\n",
    "    def __init__(self, x, y):\n",
    "        self._x = x\n",
    "        self._y = y\n",
    "\n",
    "    def area(self):\n",
    "        raise NotImplementedError(\"Subclasses must implement the 'area' method.\")\n",
    "\n",
    "    def perimeter(self):\n",
    "        raise NotImplementedError(\"Subclasses must implement the 'perimeter' method.\")\n",
    "\n",
    "    def get_x(self):\n",
    "        return self._x\n",
    "\n",
    "    def get_y(self):\n",
    "        return self._y\n",
    "\n",
    "    def perimeter_points(self, num_points=16):\n",
    "        raise NotImplementedError(\"Subclasses must implement the 'perimeter_points' method.\")\n",
    "\n",
    "    def is_inside(self, test_x, test_y):\n",
    "        raise NotImplementedError(\"Subclasses must implement the 'is_inside' method.\")\n",
    "\n",
    "    def overlap(self, other):\n",
    "        points1 = self.perimeter_points()\n",
    "        points2 = other.perimeter_points()\n",
    "\n",
    "        for point1 in points1:\n",
    "            if point1 in points2:\n",
    "                return True\n",
    "\n",
    "        return False\n",
    "\n",
    "\n",
    "class rectangle3(Shape2):\n",
    "    \n",
    "    def __init__(self, length, width, x, y):\n",
    "        super().__init__(x, y)\n",
    "        self._length = length\n",
    "        self._width = width\n",
    "\n",
    "    def area(self):\n",
    "        print(\"Area of this rectangle is\", self._length * self._width, \"units\")\n",
    "\n",
    "    def perimeter(self):\n",
    "        print(\"Perimeter of this rectange is\", 2*(self._length + self._width), \"units\")\n",
    "\n",
    "    def get_length(self):\n",
    "        return self._length\n",
    "\n",
    "    def get_width(self):\n",
    "        return self._width\n",
    "\n",
    "    def perimeter_points(self, num_points=16):\n",
    "\n",
    "        points = set()\n",
    "\n",
    "        vertices = [\n",
    "            (self._x, self._y),\n",
    "            (self._x + self._length, self._y),\n",
    "            (self._x + self._length, self._y - self._width),\n",
    "            (self._x, self._y - self._width)\n",
    "        ]\n",
    "\n",
    "        points.update(vertices)\n",
    "\n",
    "        for i in range(4):\n",
    "            start_x, start_y = vertices[i]\n",
    "            end_x, end_y = vertices[(i + 1) % 4]\n",
    "\n",
    "            for j in range(1, 3):\n",
    "                t = j / 3\n",
    "                x_coord = round((1 - t) * start_x + t * end_x, 2)\n",
    "                y_coord = round((1 - t) * start_y + t * end_y, 2)\n",
    "                points.add((x_coord, y_coord))\n",
    "\n",
    "        return list(points)\n",
    "\n",
    "    def is_inside(self, test_x, test_y):\n",
    "        return self._x <= test_x <= self._x + self._length and self._y - self._width <= test_y <= self._y\n",
    "\n",
    "class circle3(Shape2):\n",
    "    def __init__(self, radius, x, y):\n",
    "        super().__init__(x, y)\n",
    "        self._radius = radius\n",
    "\n",
    "    def area(self):\n",
    "        print(\"Area of this circle is\", round(np.pi * self._radius**2, 2), \"units\")\n",
    "\n",
    "    def perimeter(self):\n",
    "        print(\"Perimeter of this circle is\", round(2 * np.pi * self._radius, 2), \"units\")\n",
    "\n",
    "    def get_radius(self):\n",
    "        return self._radius\n",
    "\n",
    "    def perimeter_points(self, num_points=16):\n",
    "        points = set()\n",
    "\n",
    "        vertices = [\n",
    "            (self._x, self._y),\n",
    "            (self._x + self._length, self._y),\n",
    "            (self._x + self._length, self._y - self._width),\n",
    "            (self._x, self._y - self._width)\n",
    "        ]\n",
    "\n",
    "        points.update(vertices)\n",
    "\n",
    "        for i in range(4):\n",
    "            start_x, start_y = vertices[i]\n",
    "            end_x, end_y = vertices[(i + 1) % 4]\n",
    "\n",
    "            for j in range(1, 3):\n",
    "                t = j / 3\n",
    "                x_coord = round((1 - t) * start_x + t * end_x)\n",
    "                y_coord = round((1 - t) * start_y + t * end_y)\n",
    "                points.add((int(x_coord), int(y_coord)))\n",
    "\n",
    "        return list(points)\n",
    "\n",
    "    def is_inside(self, test_x, test_y):\n",
    "        distance_squared = (test_x - self._x)**2 + (test_y - self._y)**2\n",
    "        return distance_squared <= self._radius**2\n",
    "\n",
    "class triangle2(Shape2):\n",
    "    \n",
    "    def __init__(self, side1, side2, side3, x, y):\n",
    "        super().__init__(x, y)\n",
    "        self._side1 = side1\n",
    "        self._side2 = side2\n",
    "        self._side3 = side3\n",
    "\n",
    "    def perimeter(self):\n",
    "        print(\"Perimeter of this triangle is\", self._side1 + self._side2 + self._side3, \"units\")\n",
    "\n",
    "    def area(self):  # Using Heron's Formula\n",
    "        s = (self._side1 + self._side2 + self._side3) / 2\n",
    "        print(\"Area of this triangle is\", sqrt(s * (s - self._side1) * (s - self._side2) * (s - self._side3)), \"units\")\n",
    "\n",
    "    def get_side1(self):\n",
    "        return self._side1\n",
    "\n",
    "    def get_side2(self):\n",
    "        return self._side2\n",
    "\n",
    "    def get_side3(self):\n",
    "        return self._side3\n",
    "\n",
    "    def perimeter_points(self, num_points=16):\n",
    "        points = set()\n",
    "\n",
    "        vertices = [\n",
    "            (self._x, self._y),\n",
    "            (self._x + self._side1, self._y),\n",
    "            (self._x + self._side1 - (self._side3**2 - self._side2**2) / (2 * self._side1), self._y - sqrt(self._side3**2 - ((self._side3**2 - self._side2**2) / (2 * self._side1))**2))\n",
    "        ]\n",
    "\n",
    "        points.update(vertices)\n",
    "\n",
    "        for i in range(3):\n",
    "            start_x, start_y = vertices[i]\n",
    "            end_x, end_y = vertices[(i + 1) % 3]\n",
    "\n",
    "            for j in range(1, 5):\n",
    "                t = j / 5 \n",
    "                x_coord = round((1 - t) * start_x + t * end_x, 2)\n",
    "                y_coord = round((1 - t) * start_y + t * end_y, 2)\n",
    "                points.add((x_coord, y_coord))\n",
    "\n",
    "        return list(points)\n",
    "    \n",
    "    def is_inside(self, test_x, test_y):\n",
    "        def sign(p1, p2, p3):\n",
    "            return (p1[0] - p3[0]) * (p2[1] - p3[1]) - (p2[0] - p3[0]) * (p1[1] - p3[1])\n",
    "\n",
    "        d1 = sign((test_x, test_y), (self._x, self._y), (self._x + self._side1, self._y))\n",
    "        d2 = sign((test_x, test_y), (self._x + self._side1, self._y), (self._x + self._side1 - self._side3, self._y - self._side2))\n",
    "        d3 = sign((test_x, test_y), (self._x + self._side1 - self._side3, self._y - self._side2), (self._x, self._y))\n",
    "\n",
    "        has_neg = (d1 < 0) or (d2 < 0) or (d3 < 0)\n",
    "        has_pos = (d1 > 0) or (d2 > 0) or (d3 > 0)\n",
    "\n",
    "        return not (has_neg and has_pos)\n",
    "\n",
    "class CompoundShape(Shape2):\n",
    "    def __init__(self, shapes):\n",
    "        super().__init__(0, 0)  \n",
    "        self.shapes = shapes\n",
    "\n",
    "    def area(self):\n",
    "        return sum(shape.area() for shape in self.shapes)\n",
    "\n",
    "    def perimeter(self):\n",
    "        return sum(shape.perimeter() for shape in self.shapes)\n",
    "\n",
    "    def perimeter_points(self, num_points=16):\n",
    "        points = []\n",
    "        for shape in self.shapes:\n",
    "            points.extend(shape.perimeter_points(num_points))\n",
    "        return points\n",
    "\n",
    "    def is_inside(self, test_x, test_y):\n",
    "        return any(shape.is_inside(test_x, test_y) for shape in self.shapes)\n",
    "\n",
    "    def overlap(self, other):\n",
    "        return any(shape.overlap(other) for shape in self.shapes)\n"
   ]
  },
  {
   "cell_type": "code",
   "execution_count": 256,
   "metadata": {},
   "outputs": [],
   "source": [
    "import paint"
   ]
  },
  {
   "cell_type": "code",
   "execution_count": 253,
   "metadata": {},
   "outputs": [
    {
     "name": "stdout",
     "output_type": "stream",
     "text": [
      "                    \n",
      "                    \n",
      "                    \n",
      "    *               \n",
      "    *               \n",
      "  * *               \n",
      "   *                \n",
      "                    \n",
      "    *               \n",
      "                    \n",
      "     *  *****       \n",
      "      *             \n",
      "                    \n",
      "       *            \n",
      "                    \n",
      "                    \n",
      "                    \n",
      "                    \n",
      "                    \n",
      "                    \n"
     ]
    }
   ],
   "source": [
    "canvas = Canvas(width=20, height=20)\n",
    "\n",
    "rectangle_object = rectangle3(length=5, width=3, x=2, y=4)\n",
    "circle_object = circle3(radius=4, x=12, y=10)\n",
    "triangle_object = triangle2(side1=6, side2=8, side3=10, x=15, y=5)\n",
    "\n",
    "canvas.v_line(3, 4, 3)\n",
    "canvas.h_line(10, 8, 5)\n",
    "canvas.line(2, 5, 8, 15)\n",
    "\n",
    "canvas.display()"
   ]
  },
  {
   "cell_type": "code",
   "execution_count": null,
   "metadata": {},
   "outputs": [],
   "source": []
  },
  {
   "cell_type": "code",
   "execution_count": null,
   "metadata": {},
   "outputs": [],
   "source": []
  },
  {
   "cell_type": "code",
   "execution_count": null,
   "metadata": {},
   "outputs": [],
   "source": []
  },
  {
   "cell_type": "markdown",
   "metadata": {},
   "source": [
    "11. Create a `RasterDrawing` class. Demonstrate that you can create a drawing made of several shapes, paint the drawing, modify the drawing, and paint it again. "
   ]
  },
  {
   "cell_type": "code",
   "execution_count": 257,
   "metadata": {},
   "outputs": [],
   "source": [
    "class RasterDrawing:\n",
    "    def __init__(self, width, height):\n",
    "        self.canvas = Canvas(width, height)\n",
    "        self.shapes = []\n",
    "\n",
    "    def add_shape(self, shape):\n",
    "        self.shapes.append(shape)\n",
    "\n",
    "    def paint(self):\n",
    "        self.canvas.clear_canvas()\n",
    "        for shape in self.shapes:\n",
    "            points = shape.perimeter_points()\n",
    "            for point in points:\n",
    "                x, y = point\n",
    "                self.canvas.set_pixel(x, y, char='*')\n",
    "\n",
    "    def display(self):\n",
    "        self.canvas.display()\n"
   ]
  },
  {
   "cell_type": "code",
   "execution_count": 267,
   "metadata": {},
   "outputs": [
    {
     "name": "stdout",
     "output_type": "stream",
     "text": [
      "Initial Drawing:\n"
     ]
    },
    {
     "ename": "AttributeError",
     "evalue": "'circle3' object has no attribute '_length'",
     "output_type": "error",
     "traceback": [
      "\u001b[0;31m---------------------------------------------------------------------------\u001b[0m",
      "\u001b[0;31mAttributeError\u001b[0m                            Traceback (most recent call last)",
      "Cell \u001b[0;32mIn[267], line 12\u001b[0m\n\u001b[1;32m      9\u001b[0m drawing\u001b[38;5;241m.\u001b[39madd_shape(triangle1)\n\u001b[1;32m     11\u001b[0m \u001b[38;5;28mprint\u001b[39m(\u001b[38;5;124m\"\u001b[39m\u001b[38;5;124mInitial Drawing:\u001b[39m\u001b[38;5;124m\"\u001b[39m)\n\u001b[0;32m---> 12\u001b[0m \u001b[43mdrawing\u001b[49m\u001b[38;5;241;43m.\u001b[39;49m\u001b[43mpaint\u001b[49m\u001b[43m(\u001b[49m\u001b[43m)\u001b[49m\n\u001b[1;32m     13\u001b[0m drawing\u001b[38;5;241m.\u001b[39mdisplay()\n\u001b[1;32m     15\u001b[0m rectangle1\u001b[38;5;241m.\u001b[39mmove(\u001b[38;5;241m3\u001b[39m, \u001b[38;5;241m2\u001b[39m)\n",
      "Cell \u001b[0;32mIn[260], line 12\u001b[0m, in \u001b[0;36mRasterDrawing.paint\u001b[0;34m(self)\u001b[0m\n\u001b[1;32m     10\u001b[0m \u001b[38;5;28mself\u001b[39m\u001b[38;5;241m.\u001b[39mcanvas\u001b[38;5;241m.\u001b[39mclear_canvas()\n\u001b[1;32m     11\u001b[0m \u001b[38;5;28;01mfor\u001b[39;00m shape \u001b[38;5;129;01min\u001b[39;00m \u001b[38;5;28mself\u001b[39m\u001b[38;5;241m.\u001b[39mshapes:\n\u001b[0;32m---> 12\u001b[0m     points \u001b[38;5;241m=\u001b[39m \u001b[43mshape\u001b[49m\u001b[38;5;241;43m.\u001b[39;49m\u001b[43mperimeter_points\u001b[49m\u001b[43m(\u001b[49m\u001b[43m)\u001b[49m\n\u001b[1;32m     13\u001b[0m     \u001b[38;5;28;01mfor\u001b[39;00m point \u001b[38;5;129;01min\u001b[39;00m points:\n\u001b[1;32m     14\u001b[0m         x, y \u001b[38;5;241m=\u001b[39m point\n",
      "Cell \u001b[0;32mIn[251], line 101\u001b[0m, in \u001b[0;36mcircle3.perimeter_points\u001b[0;34m(self, num_points)\u001b[0m\n\u001b[1;32m     96\u001b[0m \u001b[38;5;28;01mdef\u001b[39;00m \u001b[38;5;21mperimeter_points\u001b[39m(\u001b[38;5;28mself\u001b[39m, num_points\u001b[38;5;241m=\u001b[39m\u001b[38;5;241m16\u001b[39m):\n\u001b[1;32m     97\u001b[0m     points \u001b[38;5;241m=\u001b[39m \u001b[38;5;28mset\u001b[39m()\n\u001b[1;32m     99\u001b[0m     vertices \u001b[38;5;241m=\u001b[39m [\n\u001b[1;32m    100\u001b[0m         (\u001b[38;5;28mself\u001b[39m\u001b[38;5;241m.\u001b[39m_x, \u001b[38;5;28mself\u001b[39m\u001b[38;5;241m.\u001b[39m_y),\n\u001b[0;32m--> 101\u001b[0m         (\u001b[38;5;28mself\u001b[39m\u001b[38;5;241m.\u001b[39m_x \u001b[38;5;241m+\u001b[39m \u001b[38;5;28;43mself\u001b[39;49m\u001b[38;5;241;43m.\u001b[39;49m\u001b[43m_length\u001b[49m, \u001b[38;5;28mself\u001b[39m\u001b[38;5;241m.\u001b[39m_y),\n\u001b[1;32m    102\u001b[0m         (\u001b[38;5;28mself\u001b[39m\u001b[38;5;241m.\u001b[39m_x \u001b[38;5;241m+\u001b[39m \u001b[38;5;28mself\u001b[39m\u001b[38;5;241m.\u001b[39m_length, \u001b[38;5;28mself\u001b[39m\u001b[38;5;241m.\u001b[39m_y \u001b[38;5;241m-\u001b[39m \u001b[38;5;28mself\u001b[39m\u001b[38;5;241m.\u001b[39m_width),\n\u001b[1;32m    103\u001b[0m         (\u001b[38;5;28mself\u001b[39m\u001b[38;5;241m.\u001b[39m_x, \u001b[38;5;28mself\u001b[39m\u001b[38;5;241m.\u001b[39m_y \u001b[38;5;241m-\u001b[39m \u001b[38;5;28mself\u001b[39m\u001b[38;5;241m.\u001b[39m_width)\n\u001b[1;32m    104\u001b[0m     ]\n\u001b[1;32m    106\u001b[0m     points\u001b[38;5;241m.\u001b[39mupdate(vertices)\n\u001b[1;32m    108\u001b[0m     \u001b[38;5;28;01mfor\u001b[39;00m i \u001b[38;5;129;01min\u001b[39;00m \u001b[38;5;28mrange\u001b[39m(\u001b[38;5;241m4\u001b[39m):\n",
      "\u001b[0;31mAttributeError\u001b[0m: 'circle3' object has no attribute '_length'"
     ]
    }
   ],
   "source": [
    "drawing = RasterDrawing(width=20, height=20)\n",
    "\n",
    "rectangle1 = rectangle3(length=5, width=3, x=2, y=2)\n",
    "circle1 = circle3(radius=4, x=10, y=10)\n",
    "triangle1 = triangle2(side1=4, side2=5, side3=6, x=15, y=5)\n",
    "\n",
    "drawing.add_shape(rectangle1)\n",
    "drawing.add_shape(circle1)\n",
    "drawing.add_shape(triangle1)\n",
    "\n",
    "print(\"Initial Drawing:\")\n",
    "drawing.paint()\n",
    "drawing.display()\n",
    "\n",
    "rectangle1.move(3, 2)\n",
    "\n",
    "# Paint and display the modified drawing\n",
    "print(\"\\nModified Drawing:\")\n",
    "drawing.paint()\n",
    "drawing.display()"
   ]
  },
  {
   "cell_type": "code",
   "execution_count": null,
   "metadata": {},
   "outputs": [],
   "source": []
  },
  {
   "cell_type": "code",
   "execution_count": null,
   "metadata": {},
   "outputs": [],
   "source": []
  },
  {
   "cell_type": "markdown",
   "metadata": {},
   "source": [
    "12. Implement the ability to load/save raster drawings and demonstate that your method works. One way to implement this ability:\n",
    "\n",
    "   * Overload `__repr__` functions of all objects to return strings of the python code that would construct the object.\n",
    "   \n",
    "   * In the save method of raster drawing class, store the representations into the file.\n",
    "   * Write a loader function that reads the file and uses `eval` to instantiate the object.\n",
    "\n",
    "For example:"
   ]
  },
  {
   "cell_type": "code",
   "execution_count": 262,
   "metadata": {},
   "outputs": [],
   "source": [
    "class foo:\n",
    "    def __init__(self,a,b=None):\n",
    "        self.a=a\n",
    "        self.b=b\n",
    "        \n",
    "    def __repr__(self):\n",
    "        return \"foo(\"+repr(self.a)+\",\"+repr(self.b)+\")\"\n",
    "    \n",
    "    def save(self,filename):\n",
    "        f=open(filename,\"w\")\n",
    "        f.write(self.__repr__())\n",
    "        f.close()\n",
    "        \n",
    "   \n",
    "def foo_loader(filename):\n",
    "    f=open(filename,\"r\")\n",
    "    tmp=eval(f.read())\n",
    "    f.close()\n",
    "    return tmp\n"
   ]
  },
  {
   "cell_type": "code",
   "execution_count": 263,
   "metadata": {},
   "outputs": [
    {
     "name": "stdout",
     "output_type": "stream",
     "text": [
      "foo(1,'hello')\n"
     ]
    }
   ],
   "source": [
    "# Test\n",
    "print(repr(foo(1,\"hello\")))"
   ]
  },
  {
   "cell_type": "code",
   "execution_count": 264,
   "metadata": {},
   "outputs": [],
   "source": [
    "# Create an object and save it\n",
    "ff=foo(1,\"hello\")\n",
    "ff.save(\"Test.foo\")"
   ]
  },
  {
   "cell_type": "code",
   "execution_count": 265,
   "metadata": {},
   "outputs": [
    {
     "name": "stdout",
     "output_type": "stream",
     "text": [
      "foo(1,'hello')"
     ]
    }
   ],
   "source": [
    "# Check contents of the saved file\n",
    "!cat Test.foo"
   ]
  },
  {
   "cell_type": "code",
   "execution_count": 266,
   "metadata": {},
   "outputs": [
    {
     "data": {
      "text/plain": [
       "foo(1,'hello')"
      ]
     },
     "execution_count": 266,
     "metadata": {},
     "output_type": "execute_result"
    }
   ],
   "source": [
    "# Load the object\n",
    "ff_reloaded=foo_loader(\"Test.foo\")\n",
    "ff_reloaded"
   ]
  },
  {
   "cell_type": "code",
   "execution_count": null,
   "metadata": {},
   "outputs": [],
   "source": []
  },
  {
   "cell_type": "code",
   "execution_count": 259,
   "metadata": {},
   "outputs": [],
   "source": [
    "class rectangle3(Shape2):\n",
    "    \n",
    "    def __init__(self, length, width, x, y):\n",
    "        super().__init__(x, y)\n",
    "        self._length = length\n",
    "        self._width = width\n",
    "\n",
    "    def area(self):\n",
    "        print(\"Area of this rectangle is\", self._length * self._width, \"units\")\n",
    "\n",
    "    def perimeter(self):\n",
    "        print(\"Perimeter of this rectange is\", 2*(self._length + self._width), \"units\")\n",
    "\n",
    "    def get_length(self):\n",
    "        return self._length\n",
    "\n",
    "    def get_width(self):\n",
    "        return self._width\n",
    "\n",
    "    def perimeter_points(self, num_points=16):\n",
    "        points = set()\n",
    "\n",
    "        vertices = [\n",
    "            (self._x, self._y),\n",
    "            (self._x + self._length, self._y),\n",
    "            (self._x + self._length, self._y - self._width),\n",
    "            (self._x, self._y - self._width)\n",
    "        ]\n",
    "\n",
    "        points.update(vertices)\n",
    "\n",
    "        for i in range(4):\n",
    "            start_x, start_y = vertices[i]\n",
    "            end_x, end_y = vertices[(i + 1) % 4]\n",
    "\n",
    "            for j in range(1, 3):\n",
    "                t = j / 3\n",
    "                x_coord = round((1 - t) * start_x + t * end_x)\n",
    "                y_coord = round((1 - t) * start_y + t * end_y)\n",
    "                points.add((int(x_coord), int(y_coord)))\n",
    "\n",
    "        return list(points)\n",
    "\n",
    "    def is_inside(self, test_x, test_y):\n",
    "        return self._x <= test_x <= self._x + self._length and self._y - self._width <= test_y <= self._y\n",
    "\n",
    "    def __repr__(self):\n",
    "        return f\"rectangle3(length={self._length}, width={self._width}, x={self._x}, y={self._y})\""
   ]
  },
  {
   "cell_type": "code",
   "execution_count": 260,
   "metadata": {},
   "outputs": [],
   "source": [
    "class RasterDrawing:\n",
    "    def __init__(self, width, height):\n",
    "        self.canvas = Canvas(width, height)\n",
    "        self.shapes = []\n",
    "\n",
    "    def add_shape(self, shape):\n",
    "        self.shapes.append(shape)\n",
    "\n",
    "    def paint(self):\n",
    "        self.canvas.clear_canvas()\n",
    "        for shape in self.shapes:\n",
    "            points = shape.perimeter_points()\n",
    "            for point in points:\n",
    "                x, y = point\n",
    "                self.canvas.set_pixel(x, y, char='*')\n",
    "\n",
    "    def display(self):\n",
    "        self.canvas.display()\n",
    "    \n",
    "    def save(self, filename):\n",
    "        with open(filename, \"w\") as f:\n",
    "            for shape in self.shapes:\n",
    "                f.write(repr(shape) + \"\\n\")\n",
    "\n",
    "def rectangle_loader(line):\n",
    "    return eval(line)\n"
   ]
  },
  {
   "cell_type": "code",
   "execution_count": 261,
   "metadata": {},
   "outputs": [
    {
     "ename": "TypeError",
     "evalue": "RasterDrawing.__init__() missing 1 required positional argument: 'height'",
     "output_type": "error",
     "traceback": [
      "\u001b[0;31m---------------------------------------------------------------------------\u001b[0m",
      "\u001b[0;31mTypeError\u001b[0m                                 Traceback (most recent call last)",
      "Cell \u001b[0;32mIn[261], line 1\u001b[0m\n\u001b[0;32m----> 1\u001b[0m drawing \u001b[38;5;241m=\u001b[39m \u001b[43mRasterDrawing\u001b[49m\u001b[43m(\u001b[49m\u001b[43mcanvas\u001b[49m\u001b[43m)\u001b[49m\n\u001b[1;32m      2\u001b[0m rectangle_object \u001b[38;5;241m=\u001b[39m rectangle3(length\u001b[38;5;241m=\u001b[39m\u001b[38;5;241m5\u001b[39m, width\u001b[38;5;241m=\u001b[39m\u001b[38;5;241m3\u001b[39m, x\u001b[38;5;241m=\u001b[39m\u001b[38;5;241m2\u001b[39m, y\u001b[38;5;241m=\u001b[39m\u001b[38;5;241m4\u001b[39m)\n\u001b[1;32m      3\u001b[0m drawing\u001b[38;5;241m.\u001b[39madd_shape(rectangle_object)\n",
      "\u001b[0;31mTypeError\u001b[0m: RasterDrawing.__init__() missing 1 required positional argument: 'height'"
     ]
    }
   ],
   "source": [
    "drawing = RasterDrawing(canvas)\n",
    "rectangle_object = rectangle3(length=5, width=3, x=2, y=4)\n",
    "drawing.add_shape(rectangle_object)\n",
    "\n",
    "drawing.save(\"drawing.txt\")\n",
    "\n",
    "loaded_drawing = RasterDrawing(canvas)\n",
    "loaded_drawing.load(\"drawing.txt\", loader=rectangle_loader)\n",
    "\n",
    "print(\"Loaded Drawing:\")\n",
    "loaded_drawing.paint()\n",
    "loaded_drawing.display()"
   ]
  },
  {
   "cell_type": "code",
   "execution_count": null,
   "metadata": {},
   "outputs": [],
   "source": []
  }
 ],
 "metadata": {
  "kernelspec": {
   "display_name": "Python 3 (ipykernel)",
   "language": "python",
   "name": "python3"
  },
  "language_info": {
   "codemirror_mode": {
    "name": "ipython",
    "version": 3
   },
   "file_extension": ".py",
   "mimetype": "text/x-python",
   "name": "python",
   "nbconvert_exporter": "python",
   "pygments_lexer": "ipython3",
   "version": "3.10.12"
  }
 },
 "nbformat": 4,
 "nbformat_minor": 4
}
