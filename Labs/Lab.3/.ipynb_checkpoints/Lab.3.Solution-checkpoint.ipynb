{
 "cells": [
  {
   "cell_type": "markdown",
   "metadata": {},
   "source": [
    "# Lab 3\n",
    "\n",
    "In this lab we will become familiar with distributions, histograms, and functional programming. Do not use numpy or any other library for this lab.\n",
    "\n",
    "Before that, lets get setup homework submission and submit your previous lab.  \n",
    "\n",
    "## Working on the Command-line.\n",
    "\n",
    "It is important for you to learn to work on the command line and to be familiar with the Unix environment (e.g. Linux, Mac OS, or Windows Linux Subsystem). We'll go over working on the command-line in detail later in the course.\n",
    "\n",
    "You are required to submit your work in this course via GitHub. Today in class, you will setup everything on the command-line.\n",
    "\n",
    "### Command-line basics\n",
    "\n",
    "There is plenty of material online that will help you figure out how to do various tasks on the command line. Commands you may need to know today:\n",
    "\n",
    "* `ls`: lists the contents of the current directory.\n",
    "* `pwd`: prints the path of the current directory.\n",
    "* `cd <directory>`: changes your current directory to the specified directory.\n",
    "* `cd ..`: changes current directory to the previous directory. Basically steps out of the current directory to the directory containing the current directory.\n",
    "* `mkdir <directory>`: create a new directory with the specified name.\n",
    "* `rmdir <directory>`: removes the specified directory. Note it has to be empty.\n",
    "* `rm <filename>`: deletes the specified file.\n",
    "* `mv <filename 1> <filename 1>`: Moves or renames a file.\n",
    "* `cp <filename 1> <filename 2>`: copies an file. If you just provide a path to a directory, it copies the file into that directory with the same filename. If you specifiy a new filename, the copy has a new name. For example `cp File.1.txt File.2.txt` creates a copy of `File.1.txt` with the name `File.2.txt`. Meanwhile `cp File.1.txt my_directory`, where `my_directory` is a directory, creates a copy of `File.1.txt` in directory `my_directory` with the name `File.1.txt`.\n",
    "\n",
    "For reference, here are some example resources I found by googling:\n",
    "\n",
    "* Paths and Wildcards: https://www.warp.dev/terminus/linux-wildcards\n",
    "* Basic commands like copy: https://kb.iu.edu/d/afsk\n",
    "* General introduction to shell: https://github-pages.ucl.ac.uk/RCPSTrainingMaterials/HPCandHTCusingLegion/2_intro_to_shell.html\n",
    "* Manual pages: https://www.geeksforgeeks.org/linux-man-page-entries-different-types/?ref=ml_lbp\n",
    "* Chaining commands: https://www.geeksforgeeks.org/chaining-commands-in-linux/?ref=ml_lbp\n",
    "* Piping: https://www.geeksforgeeks.org/piping-in-unix-or-linux/\n",
    "* Using sed: https://www.geeksforgeeks.org/sed-command-linux-set-2/?ref=ml_lbp\n",
    "* Various Unix commands: https://www.geeksforgeeks.org/linux-commands/?ref=lbp\n",
    "* Cheat sheets:\n",
    "    * https://www.stationx.net/unix-commands-cheat-sheet/\n",
    "    * https://cheatography.com/davechild/cheat-sheets/linux-command-line/\n",
    "    * https://www.theknowledgeacademy.com/blog/unix-commands-cheat-sheet/\n",
    "    \n",
    "These aren't necessarily the best resources. Feel free to search for better ones. Also, don't forget that Unix has built-in manual pages for all of its commands. Just type `man <command>` at the command prompt. Use the space-bar to scroll through the documentation and \"q\" to exit.\n",
    "\n",
    "\n",
    "### Setup and Submission\n",
    "\n",
    "Our course repository is public. The instructions here aim to have you setup a fork of the course repository. Unfortunately because you are forking a public repo, your fork will have to be public also. \n",
    "\n",
    "You should be familiar with git from the first semester of this course. I assume that you all have github accounts and have setup things to be able to [push to github using ssh](https://docs.github.com/en/github/authenticating-to-github/connecting-to-github-with-ssh). The instuctions here lead you to:\n",
    "\n",
    "We'll overview what you will do before going through step by step instructions.\n",
    "\n",
    "1. Setup:\n",
    "    1. Fork the class repository. Some directions in [fork-a-repo](https://docs.github.com/en/github/getting-started-with-github/fork-a-repo).\n",
    "    1. Create a directory on your personal system where you will keep all course materials.\n",
    "    1. In that directory, clone your fork of the repository.\n",
    "    1. Using `git remote`, set the upstream to be the class repo, so you can pull from the class and push to your fork.\n",
    "\n",
    "1. Submission:\n",
    "    1. Copy your solutions into the appropriate directory (e.g. into `Labs/Lab.2/`) and with appropriate filename `Lab.2.solution.ipynb'.\n",
    "    1. Commit / push your solutions.\n",
    "    1. Grant access to course instructors.\n",
    "\n",
    "Below are step by step instructions with examples (including example directory naming convention). Feel free to modify things as you see fit. \n",
    "\n",
    "#### Setup\n",
    "You should only need to follow this instructions once. Here are some useful git commands:\n",
    "\n",
    "* Git help: `git help`\n",
    "* Git remote help: `git help remote`\n",
    "* Check remote status: `git remote -v`\n",
    "* Add a remote: `git remote add <stream name> <repo URL>`\n",
    "* Add a remove: `git remote remove <stream name>`\n",
    "\n",
    "Steps:\n",
    "1. In a browser, log into GitHub and navigate to the [course repository](https://github.com/UTA-DataScience/DATA3402.Spring.2024).\n",
    "1. On the top right of the page, press the fork button to create a new fork into your own GitHub account.\n",
    "1. After successful fork, you should find the browser showing your fork of the course repository. Use the green \"Code\" button to copy path to the repo into your the clipboard of your computer.\n",
    "1. Open a shell on your personal computer.\n",
    "1. If you have not done so already, create a new directory/folder where you will keep all course material to navigate to it. For example: `mkdir Data-3402` and `cd Data-3402`.\n",
    "1. Clone your fork of the repository using `git clone` followed by the path you copied into your clipboard. (copy/paste)\n",
    "1. Paste the URL to your fork in the worksheet for the TAs and instructors.\n",
    "1. Now go into the directory of your clone (`cd DATA3402.Spring.2024`).\n",
    "1. Type `git remote -v` to see the current setup for fetch and pull.\n",
    "1. Note the URL you see. This should be the same as what you used for your clone for both push and fetch.\n",
    "1. Delete the origin remote using `git remote remove origin`.\n",
    "1. Add the course repo as your remote using `git remote add origin https://github.com/UTA-DataScience/DATA3402.Spring.2024.git`.\n",
    "1. Change the push to point to your fork. This means you will need the URL to your clone we copied earlier and confirmed as the original origin. The command will look something like: `git remote set-url --push origin  https://github.com/XXXXXX/DATA3402.Spring.2024.git`, where XXXXX is your username on GitHub.\n",
    "1. Note that if you setup everything correctly, you now should be able to do `git pull` to get updates from the course repo, and do `git push` to push your commits into your own fork.\n",
    "\n",
    "### Submission\n",
    "These instructions outline how you submit files. Some useful commands:\n",
    "* To add a file to local repository: `git add <file>`.\n",
    "* To commit all changed files into local repository: `git -a -m \"A message\"`. You need to provide some comment when you commit. \n",
    "* To push the commited files from the local repository to GitHub: `git push`.\n",
    "* To get updates from GitHub: `git pull`.\n",
    "\n",
    "Steps:\n",
    "1. To submit your labs, navigate to your clone of your fork of the course repository. \n",
    "1. Use `git pull` to make sure you have the latest updates. \n",
    "1. Make sure your copy of the lab your are working on is in the appropriate place in this clone. That means if you have the file elsewhere, copy it to the same directory in your clone of your fork. \n",
    "1. Note that in order to avoid future conflicts, you should always name your solution differently than the original file in the class repo. For example if your file is still named `Lab.2.ipynb` you should rename it using the `mv` command: `mv Lab.2.ipynb Lab.2.solution.ipynb`. \n",
    "1. Add and files you wish to submit into the repo. For example: `git add Labs/Lab.2/Lab.2.solution.ipynb`\n",
    "1. Commit any changes: `git commit -a -m \"Lab 2 updates\"`\n",
    "1. Push your changes: `git push`\n",
    "1. Check on github website that your solutions have been properly submitted.\n",
    "\n",
    "Before you leave the session today, submit your Lab.2 solution as is now to make sure you can do it. If you need to work further on your lab, navigate jupyter to the copy of the lab you just submitted and work there. Once done, repeat the commit and push commands to submit your updated solution. Note that lab 2 is due by midnight today (Friday 2/9/2024).\n"
   ]
  },
  {
   "cell_type": "markdown",
   "metadata": {},
   "source": [
    "### Uniform Distribution\n",
    "Lets start with generating some fake random data. You can get a random number between 0 and 1 using the python random module as follow:"
   ]
  },
  {
   "cell_type": "code",
   "execution_count": 117,
   "metadata": {},
   "outputs": [
    {
     "name": "stdout",
     "output_type": "stream",
     "text": [
      "The Value of x is 0.316849097921197\n"
     ]
    }
   ],
   "source": [
    "import random\n",
    "x=random.random()\n",
    "print(\"The Value of x is\", x)"
   ]
  },
  {
   "cell_type": "markdown",
   "metadata": {},
   "source": [
    "Everytime you call random, you will get a new number.\n",
    "\n",
    "*Exercise 1:* Using random, write a function `generate_uniform(N, mymin, mymax)`, that returns a python list containing N random numbers between specified minimum and maximum value. Note that you may want to quickly work out on paper how to turn numbers between 0 and 1 to between other values. "
   ]
  },
  {
   "cell_type": "code",
   "execution_count": 118,
   "metadata": {},
   "outputs": [],
   "source": [
    "# Skeleton\n",
    "def generate_uniform(N,x_min,x_max):\n",
    "    out = []\n",
    "    ### BEGIN SOLUTION\n",
    "    out = [random.random() * (x_max - x_min) + x_min for _ in range(N)]\n",
    "    # Fill in your solution here        \n",
    "    \n",
    "    ### END SOLUTION\n",
    "    return out"
   ]
  },
  {
   "cell_type": "code",
   "execution_count": 119,
   "metadata": {},
   "outputs": [
    {
     "name": "stdout",
     "output_type": "stream",
     "text": [
      "Data Type: <class 'list'>\n",
      "Data Length: 1000\n",
      "Type of Data Contents: <class 'float'>\n",
      "Data Minimum: -9.978181908617987\n",
      "Data Maximum: 9.978910926980696\n"
     ]
    }
   ],
   "source": [
    "# Test your solution here\n",
    "data=generate_uniform(1000,-10,10)\n",
    "print (\"Data Type:\", type(data))\n",
    "print (\"Data Length:\", len(data))\n",
    "if len(data)>0: \n",
    "    print (\"Type of Data Contents:\", type(data[0]))\n",
    "    print (\"Data Minimum:\", min(data))\n",
    "    print (\"Data Maximum:\", max(data))"
   ]
  },
  {
   "cell_type": "markdown",
   "metadata": {},
   "source": [
    "*Exercise 2a:* \n",
    "Write a function that computes the mean of values in a list. Recall the equation for the mean of a random variable $\\bf{x}$ computed on a data set of $n$ values $\\{ x_i \\} = \\{x_1, x_2, ..., x_n\\}$  is ${\\bf\\bar{x}} = \\frac{1}{n} \\sum_i^n x_i$."
   ]
  },
  {
   "cell_type": "code",
   "execution_count": 120,
   "metadata": {},
   "outputs": [],
   "source": [
    "# Skeleton\n",
    "def mean(Data):\n",
    "    m=0.\n",
    "    \n",
    "    ### BEGIN SOLUTION\n",
    "\n",
    "    m = sum(Data) / len(Data)       \n",
    "    \n",
    "    ### END SOLUTION\n",
    "    \n",
    "    return m"
   ]
  },
  {
   "cell_type": "code",
   "execution_count": 121,
   "metadata": {},
   "outputs": [
    {
     "name": "stdout",
     "output_type": "stream",
     "text": [
      "Mean of Data: 0.0818316984957114\n"
     ]
    }
   ],
   "source": [
    "# Test your solution here\n",
    "print (\"Mean of Data:\", mean(data))"
   ]
  },
  {
   "cell_type": "markdown",
   "metadata": {},
   "source": [
    "*Exercise 2b:* \n",
    "Write a function that computes the variance of values in a list. Recall the equation for the variance of a random variable $\\bf{x}$ computed on a data set of $n$ values $\\{ x_i \\} = \\{x_1, x_2, ..., x_n\\}$  is ${\\bf\\langle x \\rangle} = \\frac{1}{n} \\sum_i^n (x_i - {\\bf\\bar{x}})$."
   ]
  },
  {
   "cell_type": "code",
   "execution_count": 274,
   "metadata": {},
   "outputs": [],
   "source": [
    "# Skeleton\n",
    "def variance(Data):\n",
    "    m=0.\n",
    "    \n",
    "    ### BEGIN SOLUTION\n",
    "\n",
    "    m = sum([(x - mean(Data))**2 for x in Data]) / len(Data)        \n",
    "    \n",
    "    ### END SOLUTION\n",
    "    \n",
    "    return m"
   ]
  },
  {
   "cell_type": "code",
   "execution_count": 275,
   "metadata": {},
   "outputs": [
    {
     "name": "stdout",
     "output_type": "stream",
     "text": [
      "Variance of Data: 36.18159569425937\n"
     ]
    }
   ],
   "source": [
    "# Test your solution here\n",
    "print (\"Variance of Data:\", variance(data))"
   ]
  },
  {
   "cell_type": "markdown",
   "metadata": {},
   "source": [
    "## Histogramming"
   ]
  },
  {
   "cell_type": "markdown",
   "metadata": {},
   "source": [
    "*Exercise 3:* Write a function that bins the data so that you can create a histogram. An example of how to implement histogramming is the following logic:\n",
    "\n",
    "* User inputs a list of values `x` and optionally `n_bins` which defaults to 10.\n",
    "* If not supplied, find the minimum and maximum (`x_min`,`x_max`) of the values in x.\n",
    "* Determine the bin size (`bin_size`) by dividing the range of the function by the number of bins.\n",
    "* Create an empty list of zeros of size `n_bins`, call it `hist`.\n",
    "* Loop over the values in `x`\n",
    "    * Loop over the values in `hist` with index `i`:\n",
    "        * If x is between `x_min+i*bin_size` and `x_min+(i+1)*bin_size`, increment `hist[i].` \n",
    "        * For efficiency, try to use continue to goto the next bin and data point.\n",
    "* Return `hist` and the list corresponding of the bin edges (i.e. of `x_min+i*bin_size`).    "
   ]
  },
  {
   "cell_type": "code",
   "execution_count": 126,
   "metadata": {},
   "outputs": [],
   "source": [
    "# Solution\n",
    "def histogram(x,n_bins=10,x_min=None,x_max=None):\n",
    "    ### BEGIN SOLUTION\n",
    "\n",
    "    if x_min is None:\n",
    "        x_min = min(x)\n",
    "    if x_max is None:\n",
    "        x_max = max(x)\n",
    "\n",
    "    bin_size = (x_max - x_min) / n_bins\n",
    "\n",
    "    hist = [0] * n_bins\n",
    "    bin_edges = [x_min + i * bin_size for i in range(n_bins + 1)]\n",
    "\n",
    "    for value in x:\n",
    "        for i in range(n_bins):\n",
    "            if x_min + i * bin_size <= value < x_min + (i + 1) * bin_size:\n",
    "                hist[i] += 1\n",
    "                break\n",
    "        \n",
    "    ### END SOLUTION\n",
    "\n",
    "    return hist,bin_edges"
   ]
  },
  {
   "cell_type": "code",
   "execution_count": 127,
   "metadata": {},
   "outputs": [
    {
     "name": "stdout",
     "output_type": "stream",
     "text": [
      "[12, 12, 12, 7, 13, 17, 11, 12, 11, 12, 11, 9, 11, 11, 9, 11, 7, 6, 11, 10, 14, 12, 10, 7, 12, 6, 9, 14, 14, 5, 5, 12, 7, 10, 4, 10, 8, 11, 6, 6, 5, 9, 6, 8, 14, 7, 10, 16, 9, 12, 11, 12, 8, 10, 11, 5, 3, 4, 10, 13, 9, 9, 12, 16, 8, 9, 7, 6, 14, 5, 12, 12, 13, 12, 6, 11, 9, 7, 5, 8, 10, 11, 12, 16, 12, 8, 7, 12, 17, 11, 13, 6, 15, 7, 8, 13, 13, 14, 12, 12]\n"
     ]
    }
   ],
   "source": [
    "# Test your solution here\n",
    "h,b=histogram(data,100)\n",
    "print(h)"
   ]
  },
  {
   "cell_type": "markdown",
   "metadata": {},
   "source": [
    "*Exercise 4:* Write a function that uses the histogram function in the previous exercise to create a text-based \"graph\". For example the output could look like the following:\n",
    "```\n",
    "[  0,  1] : ######\n",
    "[  1,  2] : #####\n",
    "[  2,  3] : ######\n",
    "[  3,  4] : ####\n",
    "[  4,  5] : ####\n",
    "[  5,  6] : ######\n",
    "[  6,  7] : #####\n",
    "[  7,  8] : ######\n",
    "[  8,  9] : ####\n",
    "[  9, 10] : #####\n",
    "```\n",
    "\n",
    "Where each line corresponds to a bin and the number of `#`'s are proportional to the value of the data in the bin. "
   ]
  },
  {
   "cell_type": "code",
   "execution_count": 204,
   "metadata": {},
   "outputs": [],
   "source": [
    "# Solution\n",
    "def draw_histogram(x,n_bins,x_min=None,x_max=None,character=\"#\",max_character_per_line=20):\n",
    "    ### BEGIN SOLUTION\n",
    "\n",
    "    hist,bin_edges = histogram(x,n_bins)\n",
    "\n",
    "    for key, value in enumerate(hist):\n",
    "        start_range = f\"[{bin_edges[key]:.2f}, {bin_edges[key + 1]:.2f}]\"\n",
    "        print(f\"{start_range.ljust(20)} : {'#' * value}\")\n",
    "\n",
    "    ### END SOLUTION\n",
    "    return hist,bin_edges"
   ]
  },
  {
   "cell_type": "code",
   "execution_count": 205,
   "metadata": {},
   "outputs": [
    {
     "name": "stdout",
     "output_type": "stream",
     "text": [
      "[-9.98, -8.98]       : ########################################################\n",
      "[-8.98, -7.98]       : ###############################################################\n",
      "[-7.98, -6.98]       : ###################################################\n",
      "[-6.98, -5.99]       : #############################################\n",
      "[-5.99, -4.99]       : #######################################################\n",
      "[-4.99, -3.99]       : ################################################\n",
      "[-3.99, -2.99]       : ######################################\n",
      "[-2.99, -2.00]       : #########################################\n",
      "[-2.00, -1.00]       : ##########################################\n",
      "[-1.00, 0.00]        : ######################################################\n",
      "[0.00, 1.00]         : ####################################################\n",
      "[1.00, 2.00]         : ###################################\n",
      "[2.00, 2.99]         : ######################################################\n",
      "[2.99, 3.99]         : #########################################\n",
      "[3.99, 4.99]         : #######################################################\n",
      "[4.99, 5.99]         : ########################################\n",
      "[5.99, 6.99]         : #############################################################\n",
      "[6.99, 7.98]         : #######################################################\n",
      "[7.98, 8.98]         : #################################################\n",
      "[8.98, 9.98]         : ################################################################\n"
     ]
    }
   ],
   "source": [
    "# Test your solution here\n",
    "h,b=draw_histogram(data,20)"
   ]
  },
  {
   "cell_type": "markdown",
   "metadata": {},
   "source": [
    "## Functional Programming\n",
    "\n",
    "*Exercise 5:* Write a function the applies a booling function (that returns true/false) to every element in data, and return a list of indices of elements where the result was true. Use this function to find the indices of entries greater than 0.5. "
   ]
  },
  {
   "cell_type": "code",
   "execution_count": 180,
   "metadata": {},
   "outputs": [],
   "source": [
    "def where(mylist,myfunc):\n",
    "    out= []\n",
    "    \n",
    "    ### BEGIN SOLUTION\n",
    "\n",
    "    out = [i for i, value in enumerate(mylist) if myfunc(value)]\n",
    "    \n",
    "    ### END SOLUTION\n",
    "    \n",
    "    return out"
   ]
  },
  {
   "cell_type": "code",
   "execution_count": 181,
   "metadata": {},
   "outputs": [],
   "source": [
    "def condition_function(x):\n",
    "    return x > 0.5"
   ]
  },
  {
   "cell_type": "code",
   "execution_count": 182,
   "metadata": {},
   "outputs": [
    {
     "data": {
      "text/plain": [
       "[2,\n",
       " 6,\n",
       " 10,\n",
       " 11,\n",
       " 16,\n",
       " 18,\n",
       " 23,\n",
       " 24,\n",
       " 25,\n",
       " 26,\n",
       " 27,\n",
       " 29,\n",
       " 32,\n",
       " 33,\n",
       " 34,\n",
       " 35,\n",
       " 36,\n",
       " 38,\n",
       " 40,\n",
       " 41,\n",
       " 42,\n",
       " 43,\n",
       " 44,\n",
       " 48,\n",
       " 49,\n",
       " 50,\n",
       " 54,\n",
       " 58,\n",
       " 59,\n",
       " 63,\n",
       " 64,\n",
       " 66,\n",
       " 68,\n",
       " 69,\n",
       " 70,\n",
       " 71,\n",
       " 72,\n",
       " 73,\n",
       " 74,\n",
       " 76,\n",
       " 78,\n",
       " 85,\n",
       " 87,\n",
       " 89,\n",
       " 90,\n",
       " 92,\n",
       " 93,\n",
       " 94,\n",
       " 98,\n",
       " 100,\n",
       " 101,\n",
       " 103,\n",
       " 106,\n",
       " 107,\n",
       " 110,\n",
       " 115,\n",
       " 120,\n",
       " 121,\n",
       " 128,\n",
       " 132,\n",
       " 134,\n",
       " 139,\n",
       " 140,\n",
       " 143,\n",
       " 149,\n",
       " 151,\n",
       " 153,\n",
       " 157,\n",
       " 158,\n",
       " 160,\n",
       " 162,\n",
       " 163,\n",
       " 165,\n",
       " 167,\n",
       " 169,\n",
       " 170,\n",
       " 172,\n",
       " 173,\n",
       " 185,\n",
       " 192,\n",
       " 194,\n",
       " 195,\n",
       " 196,\n",
       " 198,\n",
       " 200,\n",
       " 207,\n",
       " 209,\n",
       " 212,\n",
       " 216,\n",
       " 217,\n",
       " 219,\n",
       " 223,\n",
       " 225,\n",
       " 227,\n",
       " 228,\n",
       " 230,\n",
       " 231,\n",
       " 232,\n",
       " 233,\n",
       " 235,\n",
       " 237,\n",
       " 239,\n",
       " 243,\n",
       " 244,\n",
       " 245,\n",
       " 246,\n",
       " 247,\n",
       " 249,\n",
       " 250,\n",
       " 253,\n",
       " 254,\n",
       " 256,\n",
       " 259,\n",
       " 260,\n",
       " 263,\n",
       " 267,\n",
       " 269,\n",
       " 272,\n",
       " 273,\n",
       " 274,\n",
       " 275,\n",
       " 284,\n",
       " 286,\n",
       " 288,\n",
       " 293,\n",
       " 296,\n",
       " 298,\n",
       " 299,\n",
       " 300,\n",
       " 303,\n",
       " 307,\n",
       " 308,\n",
       " 309,\n",
       " 312,\n",
       " 315,\n",
       " 321,\n",
       " 322,\n",
       " 323,\n",
       " 325,\n",
       " 326,\n",
       " 327,\n",
       " 328,\n",
       " 329,\n",
       " 331,\n",
       " 332,\n",
       " 333,\n",
       " 334,\n",
       " 336,\n",
       " 339,\n",
       " 341,\n",
       " 343,\n",
       " 346,\n",
       " 347,\n",
       " 348,\n",
       " 349,\n",
       " 354,\n",
       " 355,\n",
       " 356,\n",
       " 358,\n",
       " 361,\n",
       " 362,\n",
       " 364,\n",
       " 365,\n",
       " 370,\n",
       " 371,\n",
       " 372,\n",
       " 374,\n",
       " 375,\n",
       " 376,\n",
       " 382,\n",
       " 383,\n",
       " 386,\n",
       " 387,\n",
       " 395,\n",
       " 396,\n",
       " 397,\n",
       " 399,\n",
       " 400,\n",
       " 405,\n",
       " 407,\n",
       " 408,\n",
       " 409,\n",
       " 410,\n",
       " 411,\n",
       " 412,\n",
       " 413,\n",
       " 414,\n",
       " 415,\n",
       " 418,\n",
       " 419,\n",
       " 420,\n",
       " 421,\n",
       " 422,\n",
       " 426,\n",
       " 428,\n",
       " 429,\n",
       " 436,\n",
       " 437,\n",
       " 439,\n",
       " 443,\n",
       " 444,\n",
       " 445,\n",
       " 449,\n",
       " 451,\n",
       " 454,\n",
       " 456,\n",
       " 457,\n",
       " 458,\n",
       " 460,\n",
       " 462,\n",
       " 463,\n",
       " 464,\n",
       " 465,\n",
       " 467,\n",
       " 471,\n",
       " 474,\n",
       " 475,\n",
       " 476,\n",
       " 477,\n",
       " 478,\n",
       " 479,\n",
       " 481,\n",
       " 482,\n",
       " 486,\n",
       " 493,\n",
       " 499,\n",
       " 500,\n",
       " 502,\n",
       " 503,\n",
       " 504,\n",
       " 505,\n",
       " 506,\n",
       " 508,\n",
       " 511,\n",
       " 512,\n",
       " 516,\n",
       " 517,\n",
       " 518,\n",
       " 519,\n",
       " 520,\n",
       " 521,\n",
       " 523,\n",
       " 524,\n",
       " 528,\n",
       " 529,\n",
       " 530,\n",
       " 534,\n",
       " 535,\n",
       " 536,\n",
       " 538,\n",
       " 541,\n",
       " 543,\n",
       " 544,\n",
       " 545,\n",
       " 547,\n",
       " 550,\n",
       " 552,\n",
       " 555,\n",
       " 556,\n",
       " 560,\n",
       " 564,\n",
       " 566,\n",
       " 567,\n",
       " 568,\n",
       " 572,\n",
       " 573,\n",
       " 577,\n",
       " 579,\n",
       " 580,\n",
       " 581,\n",
       " 587,\n",
       " 588,\n",
       " 591,\n",
       " 592,\n",
       " 593,\n",
       " 594,\n",
       " 598,\n",
       " 601,\n",
       " 607,\n",
       " 612,\n",
       " 617,\n",
       " 618,\n",
       " 620,\n",
       " 621,\n",
       " 622,\n",
       " 626,\n",
       " 630,\n",
       " 631,\n",
       " 632,\n",
       " 633,\n",
       " 635,\n",
       " 636,\n",
       " 638,\n",
       " 642,\n",
       " 643,\n",
       " 644,\n",
       " 646,\n",
       " 648,\n",
       " 649,\n",
       " 652,\n",
       " 653,\n",
       " 654,\n",
       " 655,\n",
       " 660,\n",
       " 663,\n",
       " 666,\n",
       " 670,\n",
       " 672,\n",
       " 674,\n",
       " 676,\n",
       " 683,\n",
       " 685,\n",
       " 686,\n",
       " 687,\n",
       " 688,\n",
       " 689,\n",
       " 690,\n",
       " 691,\n",
       " 695,\n",
       " 697,\n",
       " 699,\n",
       " 700,\n",
       " 701,\n",
       " 702,\n",
       " 703,\n",
       " 704,\n",
       " 705,\n",
       " 708,\n",
       " 709,\n",
       " 711,\n",
       " 712,\n",
       " 713,\n",
       " 714,\n",
       " 716,\n",
       " 719,\n",
       " 721,\n",
       " 722,\n",
       " 723,\n",
       " 726,\n",
       " 727,\n",
       " 730,\n",
       " 731,\n",
       " 732,\n",
       " 733,\n",
       " 734,\n",
       " 735,\n",
       " 736,\n",
       " 740,\n",
       " 743,\n",
       " 745,\n",
       " 747,\n",
       " 749,\n",
       " 751,\n",
       " 754,\n",
       " 757,\n",
       " 760,\n",
       " 761,\n",
       " 762,\n",
       " 764,\n",
       " 765,\n",
       " 766,\n",
       " 767,\n",
       " 768,\n",
       " 769,\n",
       " 770,\n",
       " 771,\n",
       " 776,\n",
       " 780,\n",
       " 781,\n",
       " 782,\n",
       " 783,\n",
       " 786,\n",
       " 791,\n",
       " 793,\n",
       " 794,\n",
       " 795,\n",
       " 799,\n",
       " 803,\n",
       " 805,\n",
       " 806,\n",
       " 810,\n",
       " 811,\n",
       " 812,\n",
       " 815,\n",
       " 820,\n",
       " 823,\n",
       " 824,\n",
       " 826,\n",
       " 827,\n",
       " 828,\n",
       " 831,\n",
       " 832,\n",
       " 834,\n",
       " 836,\n",
       " 837,\n",
       " 838,\n",
       " 839,\n",
       " 840,\n",
       " 841,\n",
       " 846,\n",
       " 848,\n",
       " 850,\n",
       " 851,\n",
       " 852,\n",
       " 854,\n",
       " 860,\n",
       " 861,\n",
       " 863,\n",
       " 864,\n",
       " 865,\n",
       " 869,\n",
       " 872,\n",
       " 873,\n",
       " 876,\n",
       " 877,\n",
       " 878,\n",
       " 880,\n",
       " 882,\n",
       " 883,\n",
       " 884,\n",
       " 885,\n",
       " 886,\n",
       " 891,\n",
       " 892,\n",
       " 894,\n",
       " 896,\n",
       " 897,\n",
       " 898,\n",
       " 900,\n",
       " 901,\n",
       " 902,\n",
       " 903,\n",
       " 904,\n",
       " 905,\n",
       " 906,\n",
       " 907,\n",
       " 908,\n",
       " 909,\n",
       " 911,\n",
       " 912,\n",
       " 913,\n",
       " 916,\n",
       " 919,\n",
       " 922,\n",
       " 924,\n",
       " 925,\n",
       " 926,\n",
       " 928,\n",
       " 929,\n",
       " 930,\n",
       " 936,\n",
       " 937,\n",
       " 938,\n",
       " 939,\n",
       " 947,\n",
       " 949,\n",
       " 950,\n",
       " 952,\n",
       " 953,\n",
       " 956,\n",
       " 957,\n",
       " 958,\n",
       " 961,\n",
       " 967,\n",
       " 968,\n",
       " 969,\n",
       " 970,\n",
       " 971,\n",
       " 972,\n",
       " 973,\n",
       " 976,\n",
       " 977,\n",
       " 978,\n",
       " 979,\n",
       " 981,\n",
       " 986,\n",
       " 991,\n",
       " 997,\n",
       " 998]"
      ]
     },
     "execution_count": 182,
     "metadata": {},
     "output_type": "execute_result"
    }
   ],
   "source": [
    "# Test your solution here\n",
    "where(data, condition_function)"
   ]
  },
  {
   "cell_type": "markdown",
   "metadata": {},
   "source": [
    "*Exercise 6:* The `inrange(mymin,mymax)` function below returns a function that tests if it's input is between the specified values. Write corresponding functions that test:\n",
    "* Even\n",
    "* Odd\n",
    "* Greater than\n",
    "* Less than\n",
    "* Equal\n",
    "* Divisible by"
   ]
  },
  {
   "cell_type": "code",
   "execution_count": 183,
   "metadata": {},
   "outputs": [],
   "source": [
    "def in_range(mymin,mymax):\n",
    "    def testrange(x):\n",
    "        return x<mymax and x>=mymin\n",
    "    return testrange"
   ]
  },
  {
   "cell_type": "code",
   "execution_count": 184,
   "metadata": {},
   "outputs": [
    {
     "name": "stdout",
     "output_type": "stream",
     "text": [
      "True True False False False\n",
      "False False True True False\n",
      "\n",
      "Number of Entries passing F1: 507\n",
      "Number of Entries passing F2: 0\n"
     ]
    }
   ],
   "source": [
    "# Examples:\n",
    "F1=in_range(0,10)\n",
    "F2=in_range(10,20)\n",
    "\n",
    "# Test of in_range\n",
    "print (F1(0), F1(1), F1(10), F1(15), F1(20))\n",
    "print (F2(0), F2(1), F2(10), F2(15), F2(20))\n",
    "\n",
    "print (\"\\nNumber of Entries passing F1:\", len(where(data,F1)))\n",
    "print (\"Number of Entries passing F2:\", len(where(data,F2)))"
   ]
  },
  {
   "cell_type": "code",
   "execution_count": 185,
   "metadata": {},
   "outputs": [],
   "source": [
    "### BEGIN SOLUTION\n",
    "\n",
    "def even(x):\n",
    "    return x % 2 == 0\n",
    "\n",
    "def odd(x):\n",
    "    return x % 2 != 0\n",
    "\n",
    "def greater_than(value):\n",
    "    def func(x):\n",
    "        return x > value\n",
    "    return func\n",
    "\n",
    "def less_than(value):\n",
    "    def func(x):\n",
    "        return x < value\n",
    "    return func\n",
    "\n",
    "def equal_to(value):\n",
    "    def func(x):\n",
    "        return x == value\n",
    "    return func\n",
    "\n",
    "def divisible_by(divisor):\n",
    "    def func(x):\n",
    "        return x % divisor == 0\n",
    "    return func\n",
    "\n",
    "### END SOLUTION"
   ]
  },
  {
   "cell_type": "code",
   "execution_count": 186,
   "metadata": {},
   "outputs": [],
   "source": [
    "F3 = even\n",
    "F4 = odd\n",
    "F5= is_greater_than(5)\n",
    "F6= is_less_than(5)\n",
    "F7= is_equal_to(5)\n",
    "F8= is_divisible_by(2)"
   ]
  },
  {
   "cell_type": "code",
   "execution_count": 187,
   "metadata": {},
   "outputs": [
    {
     "name": "stdout",
     "output_type": "stream",
     "text": [
      "Number of Entries that are even: 0\n",
      "Number of Entries that are odd: 1000\n",
      "Number of Entries passing F3: 269\n",
      "Number of Entries passing F4: 731\n",
      "Number of Entries passing F5: 0\n",
      "Number of Entries passing F6: 0\n"
     ]
    }
   ],
   "source": [
    "# Test your solution\n",
    "\n",
    "print (\"Number of Entries that are even:\", len(where(data,F3)))\n",
    "print (\"Number of Entries that are odd:\", len(where(data,F4)))\n",
    "print (\"Number of Entries passing F3:\", len(where(data,F5)))\n",
    "print (\"Number of Entries passing F4:\", len(where(data,F6)))\n",
    "print (\"Number of Entries passing F5:\", len(where(data,F7)))\n",
    "print (\"Number of Entries passing F6:\", len(where(data,F8)))"
   ]
  },
  {
   "cell_type": "markdown",
   "metadata": {},
   "source": [
    "*Exercise 7:* Repeat the previous exercise using `lambda` and the built-in python functions sum and map instead of your solution above. "
   ]
  },
  {
   "cell_type": "code",
   "execution_count": 188,
   "metadata": {},
   "outputs": [],
   "source": [
    "### BEGIN SOLUTION\n",
    "\n",
    "def even(x):\n",
    "    return x % 2 == 0\n",
    "\n",
    "def odd(x):\n",
    "    return x % 2 != 0\n",
    "\n",
    "def is_greater_than(value):\n",
    "    return lambda x: x > value\n",
    "\n",
    "def is_less_than(value):\n",
    "    return lambda x: x < value\n",
    "\n",
    "def is_equal_to(value):\n",
    "    return lambda x: x == value\n",
    "\n",
    "def is_divisible_by(divisor):\n",
    "    return lambda x: x % divisor == 0\n",
    "    \n",
    "### END SOLUTION"
   ]
  },
  {
   "cell_type": "code",
   "execution_count": 189,
   "metadata": {},
   "outputs": [],
   "source": [
    "F33 = even\n",
    "F44 = odd\n",
    "F55 = is_greater_than(5)\n",
    "F66 = is_less_than(5)\n",
    "F77 = is_equal_to(5)\n",
    "F88 = is_divisible_by(2)"
   ]
  },
  {
   "cell_type": "code",
   "execution_count": 190,
   "metadata": {},
   "outputs": [
    {
     "name": "stdout",
     "output_type": "stream",
     "text": [
      "Number of Entries that are even: 0\n",
      "Number of Entries that are odd: 1000\n",
      "Number of Entries passing F33: 269\n",
      "Number of Entries passing F44: 731\n",
      "Number of Entries passing F55: 0\n",
      "Number of Entries passing F66: 0\n"
     ]
    }
   ],
   "source": [
    "# Test Solution\n",
    "\n",
    "print(\"Number of Entries that are even:\", sum(map(F33,data)))\n",
    "print(\"Number of Entries that are odd:\", sum(map(F44,data)))\n",
    "print(\"Number of Entries passing F33:\", sum(map(F55,data)))\n",
    "print(\"Number of Entries passing F44:\", sum(map(F66,data)))\n",
    "print(\"Number of Entries passing F55:\", sum(map(F77,data)))\n",
    "print(\"Number of Entries passing F66:\", sum(map(F88,data)))"
   ]
  },
  {
   "cell_type": "markdown",
   "metadata": {},
   "source": [
    "## Monte Carlo\n",
    "\n",
    "*Exercise 7:* Write a \"generator\" function called `generate_function(func,x_min,x_max,N)`, that instead of generating a flat distribution, generates a distribution with functional form coded in `func`. Note that `func` will always be > 0.  \n",
    "\n",
    "Use the test function below and your histogramming functions above to demonstrate that your generator is working properly.\n",
    "\n",
    "Hint: A simple, but slow, solution is to a draw random number `test_x` within the specified range and another number `p` between the `min` and `max` of the function (which you will have to determine). If `p<=function(test_x)`, then place `test_x` on the output. If not, repeat the process, drawing two new numbers. Repeat until you have the specified number of generated numbers, `N`. For this problem, it's OK to determine the `min` and `max` by numerically sampling the function.  "
   ]
  },
  {
   "cell_type": "code",
   "execution_count": 191,
   "metadata": {},
   "outputs": [],
   "source": [
    "def generate_function(func,x_min,x_max,N=1000):\n",
    "    out = list()\n",
    "    ### BEGIN SOLUTION\n",
    "\n",
    "    min_y = float('inf')\n",
    "    max_y = float('-inf')\n",
    "    for _ in range(N):\n",
    "        test_x = random.uniform(x_min, x_max)\n",
    "        test_y = func(test_x)\n",
    "        min_y = min(min_y, test_y)\n",
    "        max_y = max(max_y, test_y)\n",
    "\n",
    "    while len(out) < N:\n",
    "        test_x = random.uniform(x_min, x_max)\n",
    "        test_y = random.uniform(min_y, max_y)\n",
    "\n",
    "        if test_y <= func(test_x):\n",
    "            out.append(test_x)    \n",
    "    ### END SOLUTION\n",
    "    \n",
    "    return out"
   ]
  },
  {
   "cell_type": "code",
   "execution_count": 192,
   "metadata": {},
   "outputs": [],
   "source": [
    "# A test function\n",
    "def test_func(x,a=1,b=1):\n",
    "    return abs(a*x+b)"
   ]
  },
  {
   "cell_type": "code",
   "execution_count": 196,
   "metadata": {},
   "outputs": [],
   "source": [
    "data_generated = generate_function(test_func, -10, 10, N=1000)"
   ]
  },
  {
   "cell_type": "code",
   "execution_count": 206,
   "metadata": {
    "scrolled": true
   },
   "outputs": [
    {
     "name": "stdout",
     "output_type": "stream",
     "text": [
      "[-9.99, -8.99]       : ##################################################################################\n",
      "[-8.99, -7.99]       : ############################################################\n",
      "[-7.99, -6.99]       : ##################################################################\n",
      "[-6.99, -5.99]       : ###########################################################\n",
      "[-5.99, -4.99]       : #########################################\n",
      "[-4.99, -3.99]       : ######################################\n",
      "[-3.99, -2.99]       : ############################\n",
      "[-2.99, -1.99]       : #################\n",
      "[-1.99, -1.00]       : ######\n",
      "[-1.00, 0.00]        : ##\n",
      "[0.00, 1.00]         : #####################\n",
      "[1.00, 2.00]         : #########################\n",
      "[2.00, 3.00]         : #########################################\n",
      "[3.00, 4.00]         : ###########################################################\n",
      "[4.00, 5.00]         : #################################################\n",
      "[5.00, 6.00]         : ##########################################################\n",
      "[6.00, 7.00]         : ##############################################################################\n",
      "[7.00, 8.00]         : ##################################################################\n",
      "[8.00, 9.00]         : ###########################################################################################\n",
      "[9.00, 10.00]        : ################################################################################################################\n"
     ]
    }
   ],
   "source": [
    "h1,b1 = draw_histogram(data_generated,20)"
   ]
  },
  {
   "cell_type": "markdown",
   "metadata": {},
   "source": [
    "*Exercise 8:* Use your function to generate 1000 numbers that are normal distributed, using the `gaussian` function below. Confirm the mean and variance of the data is close to the mean and variance you specify when building the Gaussian. Histogram the data. "
   ]
  },
  {
   "cell_type": "code",
   "execution_count": 215,
   "metadata": {},
   "outputs": [],
   "source": [
    "import math\n",
    "\n",
    "def gaussian(mean, sigma):\n",
    "    def f(x):\n",
    "        return math.exp(-((x-mean)**2)/(2*sigma**2))/math.sqrt(math.pi*sigma)\n",
    "    return f\n",
    "\n",
    "# Example Instantiation\n",
    "g1=gaussian(0,1)\n",
    "g2=gaussian(10,3)"
   ]
  },
  {
   "cell_type": "code",
   "execution_count": 219,
   "metadata": {},
   "outputs": [],
   "source": [
    "data_generated_g1 = generate_function(g1, -5, 5, N=1000)"
   ]
  },
  {
   "cell_type": "code",
   "execution_count": 220,
   "metadata": {},
   "outputs": [
    {
     "name": "stdout",
     "output_type": "stream",
     "text": [
      "Generated Data using g1:\n",
      "Mean: 0.016434028128537673\n",
      "Variance: 1.0184096851718805\n"
     ]
    }
   ],
   "source": [
    "print(\"Generated Data using g1:\")\n",
    "print(\"Mean:\", mean(data_generated_g1))\n",
    "print(\"Variance:\", variance(data_generated_g1))\n"
   ]
  },
  {
   "cell_type": "code",
   "execution_count": 221,
   "metadata": {},
   "outputs": [
    {
     "name": "stdout",
     "output_type": "stream",
     "text": [
      "[-3.20, -2.88]       : ###\n",
      "[-2.88, -2.56]       : ##\n",
      "[-2.56, -2.24]       : #######\n",
      "[-2.24, -1.91]       : ################\n",
      "[-1.91, -1.59]       : ############################\n",
      "[-1.59, -1.27]       : #################################\n",
      "[-1.27, -0.95]       : #######################################################################\n",
      "[-0.95, -0.63]       : ###############################################################################################\n",
      "[-0.63, -0.31]       : ########################################################################################################################\n",
      "[-0.31, 0.01]        : ################################################################################################################################################\n",
      "[0.01, 0.33]         : ############################################################################################################################\n",
      "[0.33, 0.66]         : ###############################################################################################\n",
      "[0.66, 0.98]         : #####################################################################################\n",
      "[0.98, 1.30]         : ##########################################################\n",
      "[1.30, 1.62]         : ##########################################################\n",
      "[1.62, 1.94]         : ####################################\n",
      "[1.94, 2.26]         : ###############\n",
      "[2.26, 2.58]         : #######\n",
      "[2.58, 2.90]         : #\n",
      "[2.90, 3.22]         : #\n"
     ]
    }
   ],
   "source": [
    "h2,b2 = draw_histogram(data_generated_g1,20)"
   ]
  },
  {
   "cell_type": "code",
   "execution_count": 255,
   "metadata": {},
   "outputs": [],
   "source": [
    "data_generated_g2 = generate_function(g2, -500, 500, N=1000)\n"
   ]
  },
  {
   "cell_type": "code",
   "execution_count": 256,
   "metadata": {},
   "outputs": [
    {
     "name": "stdout",
     "output_type": "stream",
     "text": [
      "Generated Data using g2:\n",
      "Mean: 9.965496785034238\n",
      "Variance: 8.953083052753595\n"
     ]
    }
   ],
   "source": [
    "print(\"Generated Data using g2:\")\n",
    "print(\"Mean:\", mean(data_generated_g2))\n",
    "print(\"Variance:\", variance(data_generated_g2))\n"
   ]
  },
  {
   "cell_type": "code",
   "execution_count": 257,
   "metadata": {},
   "outputs": [
    {
     "name": "stdout",
     "output_type": "stream",
     "text": [
      "[-0.60, 0.36]        : ##\n",
      "[0.36, 1.31]         : \n",
      "[1.31, 2.26]         : ##\n",
      "[2.26, 3.22]         : ###########\n",
      "[3.22, 4.17]         : ##################\n",
      "[4.17, 5.13]         : ###########################\n",
      "[5.13, 6.08]         : #########################################\n",
      "[6.08, 7.04]         : ####################################################################\n",
      "[7.04, 7.99]         : ####################################################################################\n",
      "[7.99, 8.94]         : ###################################################################################################\n",
      "[8.94, 9.90]         : ################################################################################################################################\n",
      "[9.90, 10.85]        : ###############################################################################################################\n",
      "[10.85, 11.81]       : ############################################################################################################################################\n",
      "[11.81, 12.76]       : ##################################################################################################\n",
      "[12.76, 13.71]       : #######################################################################\n",
      "[13.71, 14.67]       : ################################################\n",
      "[14.67, 15.62]       : ########################\n",
      "[15.62, 16.58]       : ################\n",
      "[16.58, 17.53]       : #######\n",
      "[17.53, 18.48]       : ####\n"
     ]
    }
   ],
   "source": [
    "h3,b3 = draw_histogram(data_generated_g2,20)"
   ]
  },
  {
   "cell_type": "markdown",
   "metadata": {},
   "source": [
    "*Exercise 9:* Combine your `generate_function`, `where`, and `in_range` functions above to create an integrate function. Use your integrate function to show that approximately 68% of Normal distribution is within one variance."
   ]
  },
  {
   "cell_type": "code",
   "execution_count": 272,
   "metadata": {},
   "outputs": [],
   "source": [
    "def integrate(func, x_min, x_max, n_points=1000):\n",
    "\n",
    "    data_points = generate_function(func, x_min, x_max, N=n_points)\n",
    "\n",
    "    sigma = math.sqrt(variance(data_points))\n",
    "    mean_y = mean(data_points)\n",
    "\n",
    "    range_func = in_range(mean_y - sigma, mean_y + sigma)\n",
    "\n",
    "    count_within_range = sum(map(range_func, data_points))\n",
    "\n",
    "    integral = count_within_range / n_points\n",
    "\n",
    "    return integral\n"
   ]
  },
  {
   "cell_type": "code",
   "execution_count": 273,
   "metadata": {},
   "outputs": [
    {
     "data": {
      "text/plain": [
       "0.689"
      ]
     },
     "execution_count": 273,
     "metadata": {},
     "output_type": "execute_result"
    }
   ],
   "source": [
    "integrate(g1,-5,5)"
   ]
  },
  {
   "cell_type": "code",
   "execution_count": null,
   "metadata": {},
   "outputs": [],
   "source": []
  }
 ],
 "metadata": {
  "kernelspec": {
   "display_name": "Python 3 (ipykernel)",
   "language": "python",
   "name": "python3"
  },
  "language_info": {
   "codemirror_mode": {
    "name": "ipython",
    "version": 3
   },
   "file_extension": ".py",
   "mimetype": "text/x-python",
   "name": "python",
   "nbconvert_exporter": "python",
   "pygments_lexer": "ipython3",
   "version": "3.10.12"
  }
 },
 "nbformat": 4,
 "nbformat_minor": 4
}
